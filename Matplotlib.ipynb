{
 "cells": [
  {
   "cell_type": "markdown",
   "id": "49b49f48",
   "metadata": {},
   "source": [
    "# Matplotlib\n",
    "* https://matplotlib.org\n",
    "* Aqui as ferramentas do matplotlib serão apresentadas e a ideia é buscar aprofundamento na ***documentação***\n",
    "* No projeto analisando dados do instagram conseguimos levantar algumas hipóteses utilziando estatísticas, mas isso é pouco\n",
    "* Precisamos mostrar como nossos dados estão distríbuidos, como eles se comportam e como podemos mostrar para os nossos clientes\n",
    "* Permite a criação e visualizações estáticas mais simples até os gráficos mais complexos e elaborados\n",
    "* Existem diversas bibliotecas para visualização porém a matplotlib é a melhor par começar\n",
    "* Como dia a própria documentação, ele torna o que é fácil, fácil e as coiss difíceis, possíveis de serem feitas!\n",
    "* Ela é bem completa e também é útil para analytics \n",
    "* Não possui tanta customização quanto outras bibliotecas e ***pode deixar a desejar no apelo estético em alguns casos***\n",
    "\n",
    "## Pyplot\n",
    "* O Pyplot é o módulo do matplotlib que possui os gráficos básicosnormalmente usados nessa biblioteca\n",
    "* Como vai ser muito usado vai ser um módulo importado diretamente\n",
    "\n",
    "\n"
   ]
  },
  {
   "cell_type": "code",
   "execution_count": 6,
   "id": "162a100d",
   "metadata": {},
   "outputs": [
    {
     "data": {
      "image/png": "[encoded data removed]",
      "text/plain": [
       "<Figure size 640x480 with 1 Axes>"
      ]
     },
     "metadata": {},
     "output_type": "display_data"
    }
   ],
   "source": [
    "# Criando o primeiro plot \n",
    "# Disponível em: https://matplotlib.org/stable/users/getting_started/index.html\n",
    "import matplotlib.pyplot as plt\n",
    "import numpy as np\n",
    "\n",
    "x = np.linspace(0, 2 * np.pi, 200)\n",
    "y = np.sin(x)\n",
    "\n",
    "fig, ax = plt.subplots()\n",
    "ax.plot(x, y)\n",
    "plt.show()"
   ]
  },
  {
   "cell_type": "code",
   "execution_count": 7,
   "id": "007bd76d",
   "metadata": {},
   "outputs": [],
   "source": [
    "import matplotlib.pyplot as plt # importanto matplotlib\n",
    "\n",
    "import numpy as np # importando numpy\n",
    "import pandas as pd # importando pandas\n",
    "import datetime as dt # importando datetime"
   ]
  },
  {
   "cell_type": "markdown",
   "id": "7addf9f8",
   "metadata": {},
   "source": [
    "## Vamos usar a base do instagram\n",
    "* Já interpretamos esses dados por meio análises estatísticas\n",
    "* Temos uma noção da sua visuzalição em tabela\n",
    "* Fica como uma forma complementar para aprofundarmos mais e tentar chegar mais próximo da realidade do que um cientista de dados faz"
   ]
  },
  {
   "cell_type": "code",
   "execution_count": 8,
   "id": "596a48eb",
   "metadata": {},
   "outputs": [],
   "source": [
    "base = pd.read_excel(\"08. Analisando o engajamento no Instagram.xlsx\") # importar a base do excel\n",
    "base = base.drop(\"Visualizações\", axis=1) # Apagando a coluna \"Visualizações\"\n",
    "base.loc[base.Carrossel.isnull(),\"Carrossel\"] = \"N\" # Atribuindo o valor N para coluna carrosel"
   ]
  },
  {
   "cell_type": "code",
   "execution_count": 9,
   "id": "2426ee89",
   "metadata": {},
   "outputs": [
    {
     "data": {
      "text/html": [
       "<div>\n",
       "<style scoped>\n",
       "    .dataframe tbody tr th:only-of-type {\n",
       "        vertical-align: middle;\n",
       "    }\n",
       "\n",
       "    .dataframe tbody tr th {\n",
       "        vertical-align: top;\n",
       "    }\n",
       "\n",
       "    .dataframe thead th {\n",
       "        text-align: right;\n",
       "    }\n",
       "</style>\n",
       "<table border=\"1\" class=\"dataframe\">\n",
       "  <thead>\n",
       "    <tr style=\"text-align: right;\">\n",
       "      <th></th>\n",
       "      <th>Tipo</th>\n",
       "      <th>Data</th>\n",
       "      <th>Curtidas</th>\n",
       "      <th>Comentários</th>\n",
       "      <th>Tags</th>\n",
       "      <th>Pessoas</th>\n",
       "      <th>Campanhas</th>\n",
       "      <th>Carrossel</th>\n",
       "      <th>Interacoes</th>\n",
       "    </tr>\n",
       "  </thead>\n",
       "  <tbody>\n",
       "    <tr>\n",
       "      <th>0</th>\n",
       "      <td>Foto</td>\n",
       "      <td>2021-09-11</td>\n",
       "      <td>2858</td>\n",
       "      <td>16</td>\n",
       "      <td>Loja</td>\n",
       "      <td>N</td>\n",
       "      <td>N</td>\n",
       "      <td>N</td>\n",
       "      <td>2874</td>\n",
       "    </tr>\n",
       "    <tr>\n",
       "      <th>1</th>\n",
       "      <td>Foto</td>\n",
       "      <td>2021-09-11</td>\n",
       "      <td>2930</td>\n",
       "      <td>28</td>\n",
       "      <td>Loja/Produtos</td>\n",
       "      <td>N</td>\n",
       "      <td>N</td>\n",
       "      <td>N</td>\n",
       "      <td>2958</td>\n",
       "    </tr>\n",
       "    <tr>\n",
       "      <th>2</th>\n",
       "      <td>Foto</td>\n",
       "      <td>2021-09-11</td>\n",
       "      <td>2807</td>\n",
       "      <td>9</td>\n",
       "      <td>Loja</td>\n",
       "      <td>N</td>\n",
       "      <td>N</td>\n",
       "      <td>N</td>\n",
       "      <td>2816</td>\n",
       "    </tr>\n",
       "    <tr>\n",
       "      <th>3</th>\n",
       "      <td>Vídeo</td>\n",
       "      <td>2021-09-12</td>\n",
       "      <td>5115</td>\n",
       "      <td>49</td>\n",
       "      <td>Produtos</td>\n",
       "      <td>N</td>\n",
       "      <td>N</td>\n",
       "      <td>N</td>\n",
       "      <td>5164</td>\n",
       "    </tr>\n",
       "    <tr>\n",
       "      <th>4</th>\n",
       "      <td>Foto</td>\n",
       "      <td>2021-09-13</td>\n",
       "      <td>4392</td>\n",
       "      <td>45</td>\n",
       "      <td>Produtos</td>\n",
       "      <td>S</td>\n",
       "      <td>N</td>\n",
       "      <td>N</td>\n",
       "      <td>4437</td>\n",
       "    </tr>\n",
       "  </tbody>\n",
       "</table>\n",
       "</div>"
      ],
      "text/plain": [
       "    Tipo       Data  Curtidas  Comentários           Tags Pessoas Campanhas  \\\n",
       "0   Foto 2021-09-11      2858           16           Loja       N         N   \n",
       "1   Foto 2021-09-11      2930           28  Loja/Produtos       N         N   \n",
       "2   Foto 2021-09-11      2807            9           Loja       N         N   \n",
       "3  Vídeo 2021-09-12      5115           49       Produtos       N         N   \n",
       "4   Foto 2021-09-13      4392           45       Produtos       S         N   \n",
       "\n",
       "  Carrossel  Interacoes   \n",
       "0         N         2874  \n",
       "1         N         2958  \n",
       "2         N         2816  \n",
       "3         N         5164  \n",
       "4         N         4437  "
      ]
     },
     "execution_count": 9,
     "metadata": {},
     "output_type": "execute_result"
    }
   ],
   "source": [
    "base.head() # Exibindo primeiras linhas do dataframe"
   ]
  },
  {
   "cell_type": "markdown",
   "id": "61133ba3",
   "metadata": {},
   "source": [
    "## Criando um plot no matplotlib\n",
    "* https://matplotlib.org/stable/plot_types/basic/plot.html"
   ]
  },
  {
   "cell_type": "code",
   "execution_count": 10,
   "id": "8d6e2248",
   "metadata": {},
   "outputs": [
    {
     "data": {
      "image/png": "[encoded data removed]",
      "text/plain": [
       "<Figure size 200x200 with 1 Axes>"
      ]
     },
     "metadata": {},
     "output_type": "display_data"
    }
   ],
   "source": [
    "plt.style.use('_mpl-gallery')\n",
    "\n",
    "# make data\n",
    "x = np.linspace(0, 10, 100)\n",
    "y = 4 + 2 * np.sin(2 * x)\n",
    "\n",
    "# plot tudo para baixo, podemos ter mais de um, tendo inclusive na forma de grid ou matriz, passando como argumentos do subplots\n",
    "fig, ax = plt.subplots() #Relacionado a figura\n",
    "\n",
    "ax.plot(x, y, linewidth=2.0) # Aqui é o tipo do plot, gráfico de linha, coluna, sctter etc.\n",
    "\n",
    "ax.set(xlim=(0, 8), xticks=np.arange(1, 8),\n",
    "       ylim=(0, 8), yticks=np.arange(1, 8))\n",
    "# Uma dica para aprender documentação é tirar as coisas, por exemplo argumentos ou funções \n",
    "# E ver como eles funcionam, se eles se relacionam e o nível de influência\n",
    "plt.show()"
   ]
  },
  {
   "cell_type": "markdown",
   "id": "a6910319",
   "metadata": {},
   "source": [
    "# Partes da figura\n",
    "* Mostra cada parte da figura que nós podemos alterar\n",
    "* Também encontra-se na [documentação](https://matplotlib.org/stable/users/explain/quick_start.html)\n",
    "![Partes da figura](https://matplotlib.org/stable/_images/anatomy.png)\n"
   ]
  },
  {
   "cell_type": "code",
   "execution_count": 11,
   "id": "5f59ee95",
   "metadata": {},
   "outputs": [
    {
     "data": {
      "image/png": "[encoded data removed]",
      "text/plain": [
       "<Figure size 1000x500 with 1 Axes>"
      ]
     },
     "metadata": {},
     "output_type": "display_data"
    }
   ],
   "source": [
    "# Make data\n",
    "x = base.Data # Seguimos a mesma lógica da documentação\n",
    "y = base.Curtidas\n",
    "\n",
    "fig, ax = plt.subplots(figsize=(10,5)) \n",
    "\n",
    "ax.plot(x, y, linewidth=2.0)  # Podemos plotar de outas formas também usando outros gráficos basta olhar\n",
    "# https://matplotlib.org/stable/plot_types/index.html\n",
    "# O jeito que decidimos mostrar os dados vai depender do jeito que está criando, a forma, como quer apresentar para o seu público\n",
    "# Ou seja é cada vez mais importante conhecer seu público/seu cliente\n",
    "plt.show()"
   ]
  },
  {
   "cell_type": "markdown",
   "id": "21649046",
   "metadata": {},
   "source": [
    "## Será que existe uma tendência de queda nas curtidas?\n",
    "* Vamos fazer uma análise mensak\n",
    "    * Para isso precisamos criar a coluna mês/ano"
   ]
  },
  {
   "cell_type": "code",
   "execution_count": 12,
   "id": "8b15447d",
   "metadata": {},
   "outputs": [
    {
     "data": {
      "text/html": [
       "<div>\n",
       "<style scoped>\n",
       "    .dataframe tbody tr th:only-of-type {\n",
       "        vertical-align: middle;\n",
       "    }\n",
       "\n",
       "    .dataframe tbody tr th {\n",
       "        vertical-align: top;\n",
       "    }\n",
       "\n",
       "    .dataframe thead th {\n",
       "        text-align: right;\n",
       "    }\n",
       "</style>\n",
       "<table border=\"1\" class=\"dataframe\">\n",
       "  <thead>\n",
       "    <tr style=\"text-align: right;\">\n",
       "      <th></th>\n",
       "      <th>Tipo</th>\n",
       "      <th>Data</th>\n",
       "      <th>Curtidas</th>\n",
       "      <th>Comentários</th>\n",
       "      <th>Tags</th>\n",
       "      <th>Pessoas</th>\n",
       "      <th>Campanhas</th>\n",
       "      <th>Carrossel</th>\n",
       "      <th>Interacoes</th>\n",
       "      <th>mes</th>\n",
       "    </tr>\n",
       "  </thead>\n",
       "  <tbody>\n",
       "    <tr>\n",
       "      <th>0</th>\n",
       "      <td>Foto</td>\n",
       "      <td>2021-09-11</td>\n",
       "      <td>2858</td>\n",
       "      <td>16</td>\n",
       "      <td>Loja</td>\n",
       "      <td>N</td>\n",
       "      <td>N</td>\n",
       "      <td>N</td>\n",
       "      <td>2874</td>\n",
       "      <td>202109</td>\n",
       "    </tr>\n",
       "    <tr>\n",
       "      <th>1</th>\n",
       "      <td>Foto</td>\n",
       "      <td>2021-09-11</td>\n",
       "      <td>2930</td>\n",
       "      <td>28</td>\n",
       "      <td>Loja/Produtos</td>\n",
       "      <td>N</td>\n",
       "      <td>N</td>\n",
       "      <td>N</td>\n",
       "      <td>2958</td>\n",
       "      <td>202109</td>\n",
       "    </tr>\n",
       "    <tr>\n",
       "      <th>2</th>\n",
       "      <td>Foto</td>\n",
       "      <td>2021-09-11</td>\n",
       "      <td>2807</td>\n",
       "      <td>9</td>\n",
       "      <td>Loja</td>\n",
       "      <td>N</td>\n",
       "      <td>N</td>\n",
       "      <td>N</td>\n",
       "      <td>2816</td>\n",
       "      <td>202109</td>\n",
       "    </tr>\n",
       "    <tr>\n",
       "      <th>3</th>\n",
       "      <td>Vídeo</td>\n",
       "      <td>2021-09-12</td>\n",
       "      <td>5115</td>\n",
       "      <td>49</td>\n",
       "      <td>Produtos</td>\n",
       "      <td>N</td>\n",
       "      <td>N</td>\n",
       "      <td>N</td>\n",
       "      <td>5164</td>\n",
       "      <td>202109</td>\n",
       "    </tr>\n",
       "    <tr>\n",
       "      <th>4</th>\n",
       "      <td>Foto</td>\n",
       "      <td>2021-09-13</td>\n",
       "      <td>4392</td>\n",
       "      <td>45</td>\n",
       "      <td>Produtos</td>\n",
       "      <td>S</td>\n",
       "      <td>N</td>\n",
       "      <td>N</td>\n",
       "      <td>4437</td>\n",
       "      <td>202109</td>\n",
       "    </tr>\n",
       "  </tbody>\n",
       "</table>\n",
       "</div>"
      ],
      "text/plain": [
       "    Tipo       Data  Curtidas  Comentários           Tags Pessoas Campanhas  \\\n",
       "0   Foto 2021-09-11      2858           16           Loja       N         N   \n",
       "1   Foto 2021-09-11      2930           28  Loja/Produtos       N         N   \n",
       "2   Foto 2021-09-11      2807            9           Loja       N         N   \n",
       "3  Vídeo 2021-09-12      5115           49       Produtos       N         N   \n",
       "4   Foto 2021-09-13      4392           45       Produtos       S         N   \n",
       "\n",
       "  Carrossel  Interacoes      mes  \n",
       "0         N         2874  202109  \n",
       "1         N         2958  202109  \n",
       "2         N         2816  202109  \n",
       "3         N         5164  202109  \n",
       "4         N         4437  202109  "
      ]
     },
     "execution_count": 12,
     "metadata": {},
     "output_type": "execute_result"
    }
   ],
   "source": [
    "base[\"mes\"] = base.Data.dt.year*100 + base.Data.dt.month  # Criando a coluna mês, o dt já foi importado\n",
    "base.head() # Verificando se a coluna foi criada"
   ]
  },
  {
   "cell_type": "code",
   "execution_count": 13,
   "id": "0641fa99",
   "metadata": {},
   "outputs": [
    {
     "name": "stdout",
     "output_type": "stream",
     "text": [
      "mes\n",
      "202109     6181.500000\n",
      "202110    13390.400000\n",
      "202111     4682.000000\n",
      "202112    11863.833333\n",
      "202201    15913.285714\n",
      "202202    17081.363636\n",
      "202203    13299.555556\n",
      "Name: Curtidas, dtype: float64\n"
     ]
    }
   ],
   "source": [
    "# Para transformar em gráfico, podemos usar o groupby para conseguir fazer essa transformação\n",
    "media_mensal = base.groupby(\"mes\")[\"Curtidas\"].mean()\n",
    "print(media_mensal)"
   ]
  },
  {
   "cell_type": "code",
   "execution_count": 14,
   "id": "a0ea5076",
   "metadata": {},
   "outputs": [
    {
     "data": {
      "text/plain": [
       "pandas.core.series.Series"
      ]
     },
     "execution_count": 14,
     "metadata": {},
     "output_type": "execute_result"
    }
   ],
   "source": [
    "type(media_mensal) # É uma série com seus indices e valores"
   ]
  },
  {
   "cell_type": "code",
   "execution_count": 15,
   "id": "4894e3c7",
   "metadata": {},
   "outputs": [
    {
     "data": {
      "text/plain": [
       "Index([202109, 202110, 202111, 202112, 202201, 202202, 202203], dtype='int32', name='mes')"
      ]
     },
     "execution_count": 15,
     "metadata": {},
     "output_type": "execute_result"
    }
   ],
   "source": [
    "media_mensal.index # Aqui conseguimos ver seu index"
   ]
  },
  {
   "cell_type": "code",
   "execution_count": 16,
   "id": "105dc567",
   "metadata": {},
   "outputs": [
    {
     "data": {
      "text/plain": [
       "array([ 6181.5       , 13390.4       ,  4682.        , 11863.83333333,\n",
       "       15913.28571429, 17081.36363636, 13299.55555556])"
      ]
     },
     "execution_count": 16,
     "metadata": {},
     "output_type": "execute_result"
    }
   ],
   "source": [
    " media_mensal.values # E aqui seus valores"
   ]
  },
  {
   "cell_type": "code",
   "execution_count": 17,
   "id": "fe08eab6",
   "metadata": {},
   "outputs": [
    {
     "name": "stdout",
     "output_type": "stream",
     "text": [
      "            Curtidas\n",
      "mes                 \n",
      "202109   6181.500000\n",
      "202110  13390.400000\n",
      "202111   4682.000000\n",
      "202112  11863.833333\n",
      "202201  15913.285714\n",
      "202202  17081.363636\n",
      "202203  13299.555556\n"
     ]
    }
   ],
   "source": [
    "tabela = pd.pivot_table(base, values =\"Curtidas\", index=\"mes\") # No curso datacamp Mostra que também podemos usar o pivot_table \n",
    "print(tabela) # ele faz algo similar ao groupby porém em forma de tabela"
   ]
  },
  {
   "cell_type": "code",
   "execution_count": 18,
   "id": "ad09ba06",
   "metadata": {},
   "outputs": [
    {
     "data": {
      "text/plain": [
       "pandas.core.frame.DataFrame"
      ]
     },
     "execution_count": 18,
     "metadata": {},
     "output_type": "execute_result"
    }
   ],
   "source": [
    "type(tabela)  # Aqui podemos ver que ele é um DataFrame"
   ]
  },
  {
   "cell_type": "code",
   "execution_count": 19,
   "id": "e3ab296d",
   "metadata": {},
   "outputs": [
    {
     "data": {
      "text/plain": [
       "Index([202109, 202110, 202111, 202112, 202201, 202202, 202203], dtype='int32', name='mes')"
      ]
     },
     "execution_count": 19,
     "metadata": {},
     "output_type": "execute_result"
    }
   ],
   "source": [
    "tabela.index # Aqui exibimos seu index"
   ]
  },
  {
   "cell_type": "markdown",
   "id": "f16f3ad5",
   "metadata": {},
   "source": [
    "***Usamos o groupby para criar o gráfico***"
   ]
  },
  {
   "cell_type": "code",
   "execution_count": 20,
   "id": "6f270fc4",
   "metadata": {},
   "outputs": [
    {
     "data": {
      "image/png": "[encoded data removed]",
      "text/plain": [
       "<Figure size 500x500 with 1 Axes>"
      ]
     },
     "metadata": {},
     "output_type": "display_data"
    }
   ],
   "source": [
    "x = media_mensal.index\n",
    "y = media_mensal.values\n",
    "\n",
    "#plot\n",
    "fig, ax = plt.subplots(figsize=(5,5))\n",
    "\n",
    "ax.plot(x, y, linewidth=2.0)\n",
    "\n",
    "plt.show() # O plot ficou estranho devido ao intervalo de tempo que não possui alguns valores, ele considera a data como um inteiro absoluto\n",
    "# então ele só liga do último valor que teve até o próximo"
   ]
  },
  {
   "cell_type": "markdown",
   "id": "deb81d3a",
   "metadata": {},
   "source": [
    "***Uma forma de resolver é considerar como string ao invés de um inteiro***"
   ]
  },
  {
   "cell_type": "code",
   "execution_count": 21,
   "id": "10a52f54",
   "metadata": {},
   "outputs": [
    {
     "data": {
      "image/png": "[encoded data removed]",
      "text/plain": [
       "<Figure size 500x500 with 1 Axes>"
      ]
     },
     "metadata": {},
     "output_type": "display_data"
    }
   ],
   "source": [
    "x = media_mensal.index.astype(str)\n",
    "y = media_mensal.values\n",
    "\n",
    "#plot\n",
    "fig, ax = plt.subplots(figsize=(5,5))\n",
    "\n",
    "ax.plot(x, y, linewidth=2.0)\n",
    "\n",
    "plt.show()"
   ]
  },
  {
   "cell_type": "markdown",
   "id": "66495a2e",
   "metadata": {},
   "source": [
    "* Pode ser um indicador, teve um pico de curtidas, porque? No instagram será que estava mostrando melhor o conteúdo\n",
    "* Será que talvez como era o começo da página as pessoas estavam mais engajadas em curtir\n",
    "* Porque será que caiu, porque as pessoas começaram a seguir outras páginas\n",
    "* Depois organicamente aumentamos as curtidas, e depois tive uma queda, devo me preocupar? ***Depende***"
   ]
  },
  {
   "cell_type": "markdown",
   "id": "18d866b2",
   "metadata": {},
   "source": [
    "## Adicionando novos dados nesse gráfico"
   ]
  },
  {
   "cell_type": "code",
   "execution_count": 22,
   "id": "2cff926a",
   "metadata": {},
   "outputs": [],
   "source": [
    "# Fazendo para o mínimo e máximo par verificar se a média é condizente \n",
    "minimo = base.groupby(\"mes\")[\"Curtidas\"].min() \n",
    "maximo = base.groupby(\"mes\")[\"Curtidas\"].max()"
   ]
  },
  {
   "cell_type": "code",
   "execution_count": 23,
   "id": "2c48ee59",
   "metadata": {},
   "outputs": [
    {
     "data": {
      "image/png": "[encoded data removed]",
      "text/plain": [
       "<Figure size 500x500 with 1 Axes>"
      ]
     },
     "metadata": {},
     "output_type": "display_data"
    }
   ],
   "source": [
    "# make data\n",
    "x = media_mensal.index.astype(str)\n",
    "y = media_mensal.values\n",
    "x1 = minimo.index.astype(str)\n",
    "y1 = minimo.values\n",
    "x2 = maximo.index.astype(str)\n",
    "y2 = maximo.values\n",
    "\n",
    "# plot\n",
    "fig, ax = plt.subplots(figsize=(5,5))\n",
    "# Traçando novos gráficos para comporação\n",
    "ax.plot(x, y, linewidth=2.0)\n",
    "ax.plot(x1, y1, linewidth=2.0, color=\"r\")\n",
    "ax.plot(x2, y2, linewidth=2.0, color='g')\n",
    "\n",
    "\n",
    "plt.show()"
   ]
  },
  {
   "cell_type": "markdown",
   "id": "aa52e8d1",
   "metadata": {},
   "source": [
    "***Com isso conseguimos perceber um outliner puxando a média***\n",
    "* O que será que aconteceu, teve algum problema? Tentar entender o mínimo e o máximo\n",
    "* O que será que puxou a média para cima que gerou esse resultado"
   ]
  },
  {
   "cell_type": "code",
   "execution_count": 24,
   "id": "3f46baba",
   "metadata": {},
   "outputs": [
    {
     "data": {
      "text/html": [
       "<div>\n",
       "<style scoped>\n",
       "    .dataframe tbody tr th:only-of-type {\n",
       "        vertical-align: middle;\n",
       "    }\n",
       "\n",
       "    .dataframe tbody tr th {\n",
       "        vertical-align: top;\n",
       "    }\n",
       "\n",
       "    .dataframe thead th {\n",
       "        text-align: right;\n",
       "    }\n",
       "</style>\n",
       "<table border=\"1\" class=\"dataframe\">\n",
       "  <thead>\n",
       "    <tr style=\"text-align: right;\">\n",
       "      <th></th>\n",
       "      <th>Tipo</th>\n",
       "      <th>Data</th>\n",
       "      <th>Curtidas</th>\n",
       "      <th>Comentários</th>\n",
       "      <th>Tags</th>\n",
       "      <th>Pessoas</th>\n",
       "      <th>Campanhas</th>\n",
       "      <th>Carrossel</th>\n",
       "      <th>Interacoes</th>\n",
       "      <th>mes</th>\n",
       "    </tr>\n",
       "  </thead>\n",
       "  <tbody>\n",
       "    <tr>\n",
       "      <th>48</th>\n",
       "      <td>Foto</td>\n",
       "      <td>2022-03-20</td>\n",
       "      <td>29084</td>\n",
       "      <td>479</td>\n",
       "      <td>Datas comemorativas/Promoções</td>\n",
       "      <td>S</td>\n",
       "      <td>S</td>\n",
       "      <td>N</td>\n",
       "      <td>29563</td>\n",
       "      <td>202203</td>\n",
       "    </tr>\n",
       "    <tr>\n",
       "      <th>43</th>\n",
       "      <td>Foto</td>\n",
       "      <td>2022-03-04</td>\n",
       "      <td>24399</td>\n",
       "      <td>266</td>\n",
       "      <td>NaN</td>\n",
       "      <td>S</td>\n",
       "      <td>S</td>\n",
       "      <td>N</td>\n",
       "      <td>24665</td>\n",
       "      <td>202203</td>\n",
       "    </tr>\n",
       "    <tr>\n",
       "      <th>45</th>\n",
       "      <td>Reels</td>\n",
       "      <td>2022-03-08</td>\n",
       "      <td>19621</td>\n",
       "      <td>275</td>\n",
       "      <td>Trends</td>\n",
       "      <td>S</td>\n",
       "      <td>S</td>\n",
       "      <td>N</td>\n",
       "      <td>19896</td>\n",
       "      <td>202203</td>\n",
       "    </tr>\n",
       "    <tr>\n",
       "      <th>50</th>\n",
       "      <td>Foto</td>\n",
       "      <td>2022-03-26</td>\n",
       "      <td>16551</td>\n",
       "      <td>186</td>\n",
       "      <td>NaN</td>\n",
       "      <td>S</td>\n",
       "      <td>N</td>\n",
       "      <td>N</td>\n",
       "      <td>16737</td>\n",
       "      <td>202203</td>\n",
       "    </tr>\n",
       "    <tr>\n",
       "      <th>49</th>\n",
       "      <td>Foto</td>\n",
       "      <td>2022-03-22</td>\n",
       "      <td>9087</td>\n",
       "      <td>106</td>\n",
       "      <td>NaN</td>\n",
       "      <td>S</td>\n",
       "      <td>S</td>\n",
       "      <td>N</td>\n",
       "      <td>9193</td>\n",
       "      <td>202203</td>\n",
       "    </tr>\n",
       "    <tr>\n",
       "      <th>44</th>\n",
       "      <td>IGTV</td>\n",
       "      <td>2022-03-07</td>\n",
       "      <td>5918</td>\n",
       "      <td>116</td>\n",
       "      <td>Dicas de como usar/Novos Produtos</td>\n",
       "      <td>S</td>\n",
       "      <td>N</td>\n",
       "      <td>N</td>\n",
       "      <td>6034</td>\n",
       "      <td>202203</td>\n",
       "    </tr>\n",
       "    <tr>\n",
       "      <th>47</th>\n",
       "      <td>IGTV</td>\n",
       "      <td>2022-03-12</td>\n",
       "      <td>5489</td>\n",
       "      <td>77</td>\n",
       "      <td>Dicas de como usar/Novos Produtos</td>\n",
       "      <td>S</td>\n",
       "      <td>N</td>\n",
       "      <td>N</td>\n",
       "      <td>5566</td>\n",
       "      <td>202203</td>\n",
       "    </tr>\n",
       "    <tr>\n",
       "      <th>51</th>\n",
       "      <td>IGTV</td>\n",
       "      <td>2022-03-27</td>\n",
       "      <td>4934</td>\n",
       "      <td>65</td>\n",
       "      <td>Dicas de como usar/Produtos</td>\n",
       "      <td>S</td>\n",
       "      <td>N</td>\n",
       "      <td>N</td>\n",
       "      <td>4999</td>\n",
       "      <td>202203</td>\n",
       "    </tr>\n",
       "    <tr>\n",
       "      <th>46</th>\n",
       "      <td>Foto</td>\n",
       "      <td>2022-03-09</td>\n",
       "      <td>4613</td>\n",
       "      <td>50</td>\n",
       "      <td>Influenciadores</td>\n",
       "      <td>S</td>\n",
       "      <td>N</td>\n",
       "      <td>N</td>\n",
       "      <td>4663</td>\n",
       "      <td>202203</td>\n",
       "    </tr>\n",
       "    <tr>\n",
       "      <th>39</th>\n",
       "      <td>Foto</td>\n",
       "      <td>2022-02-17</td>\n",
       "      <td>37351</td>\n",
       "      <td>502</td>\n",
       "      <td>Promoções</td>\n",
       "      <td>S</td>\n",
       "      <td>S</td>\n",
       "      <td>N</td>\n",
       "      <td>37853</td>\n",
       "      <td>202202</td>\n",
       "    </tr>\n",
       "    <tr>\n",
       "      <th>33</th>\n",
       "      <td>Foto</td>\n",
       "      <td>2022-02-06</td>\n",
       "      <td>24655</td>\n",
       "      <td>186</td>\n",
       "      <td>Influenciadores</td>\n",
       "      <td>S</td>\n",
       "      <td>S</td>\n",
       "      <td>N</td>\n",
       "      <td>24841</td>\n",
       "      <td>202202</td>\n",
       "    </tr>\n",
       "    <tr>\n",
       "      <th>40</th>\n",
       "      <td>Foto</td>\n",
       "      <td>2022-02-21</td>\n",
       "      <td>21621</td>\n",
       "      <td>213</td>\n",
       "      <td>Influenciadores</td>\n",
       "      <td>S</td>\n",
       "      <td>S</td>\n",
       "      <td>S</td>\n",
       "      <td>21834</td>\n",
       "      <td>202202</td>\n",
       "    </tr>\n",
       "    <tr>\n",
       "      <th>34</th>\n",
       "      <td>Foto</td>\n",
       "      <td>2022-02-09</td>\n",
       "      <td>20660</td>\n",
       "      <td>292</td>\n",
       "      <td>Influenciadores</td>\n",
       "      <td>S</td>\n",
       "      <td>S</td>\n",
       "      <td>N</td>\n",
       "      <td>20952</td>\n",
       "      <td>202202</td>\n",
       "    </tr>\n",
       "    <tr>\n",
       "      <th>38</th>\n",
       "      <td>Foto</td>\n",
       "      <td>2022-02-15</td>\n",
       "      <td>17687</td>\n",
       "      <td>213</td>\n",
       "      <td>NaN</td>\n",
       "      <td>S</td>\n",
       "      <td>N</td>\n",
       "      <td>N</td>\n",
       "      <td>17900</td>\n",
       "      <td>202202</td>\n",
       "    </tr>\n",
       "    <tr>\n",
       "      <th>37</th>\n",
       "      <td>Vídeo</td>\n",
       "      <td>2022-02-13</td>\n",
       "      <td>15219</td>\n",
       "      <td>357</td>\n",
       "      <td>Datas comemorativas</td>\n",
       "      <td>S</td>\n",
       "      <td>S</td>\n",
       "      <td>N</td>\n",
       "      <td>15576</td>\n",
       "      <td>202202</td>\n",
       "    </tr>\n",
       "    <tr>\n",
       "      <th>41</th>\n",
       "      <td>Foto</td>\n",
       "      <td>2022-02-22</td>\n",
       "      <td>12530</td>\n",
       "      <td>90</td>\n",
       "      <td>NaN</td>\n",
       "      <td>S</td>\n",
       "      <td>N</td>\n",
       "      <td>N</td>\n",
       "      <td>12620</td>\n",
       "      <td>202202</td>\n",
       "    </tr>\n",
       "    <tr>\n",
       "      <th>36</th>\n",
       "      <td>Foto</td>\n",
       "      <td>2022-02-12</td>\n",
       "      <td>11802</td>\n",
       "      <td>102</td>\n",
       "      <td>Produtos</td>\n",
       "      <td>S</td>\n",
       "      <td>S</td>\n",
       "      <td>N</td>\n",
       "      <td>11904</td>\n",
       "      <td>202202</td>\n",
       "    </tr>\n",
       "    <tr>\n",
       "      <th>32</th>\n",
       "      <td>IGTV</td>\n",
       "      <td>2022-02-04</td>\n",
       "      <td>9270</td>\n",
       "      <td>222</td>\n",
       "      <td>Dicas de como usar/Produtos</td>\n",
       "      <td>S</td>\n",
       "      <td>N</td>\n",
       "      <td>N</td>\n",
       "      <td>9492</td>\n",
       "      <td>202202</td>\n",
       "    </tr>\n",
       "    <tr>\n",
       "      <th>35</th>\n",
       "      <td>IGTV</td>\n",
       "      <td>2022-02-10</td>\n",
       "      <td>8556</td>\n",
       "      <td>188</td>\n",
       "      <td>Dicas de como usar/Produtos</td>\n",
       "      <td>S</td>\n",
       "      <td>N</td>\n",
       "      <td>N</td>\n",
       "      <td>8744</td>\n",
       "      <td>202202</td>\n",
       "    </tr>\n",
       "    <tr>\n",
       "      <th>42</th>\n",
       "      <td>Foto</td>\n",
       "      <td>2022-02-26</td>\n",
       "      <td>8544</td>\n",
       "      <td>72</td>\n",
       "      <td>Influenciadores</td>\n",
       "      <td>S</td>\n",
       "      <td>S</td>\n",
       "      <td>N</td>\n",
       "      <td>8616</td>\n",
       "      <td>202202</td>\n",
       "    </tr>\n",
       "  </tbody>\n",
       "</table>\n",
       "</div>"
      ],
      "text/plain": [
       "     Tipo       Data  Curtidas  Comentários  \\\n",
       "48   Foto 2022-03-20     29084          479   \n",
       "43   Foto 2022-03-04     24399          266   \n",
       "45  Reels 2022-03-08     19621          275   \n",
       "50   Foto 2022-03-26     16551          186   \n",
       "49   Foto 2022-03-22      9087          106   \n",
       "44   IGTV 2022-03-07      5918          116   \n",
       "47   IGTV 2022-03-12      5489           77   \n",
       "51   IGTV 2022-03-27      4934           65   \n",
       "46   Foto 2022-03-09      4613           50   \n",
       "39   Foto 2022-02-17     37351          502   \n",
       "33   Foto 2022-02-06     24655          186   \n",
       "40   Foto 2022-02-21     21621          213   \n",
       "34   Foto 2022-02-09     20660          292   \n",
       "38   Foto 2022-02-15     17687          213   \n",
       "37  Vídeo 2022-02-13     15219          357   \n",
       "41   Foto 2022-02-22     12530           90   \n",
       "36   Foto 2022-02-12     11802          102   \n",
       "32   IGTV 2022-02-04      9270          222   \n",
       "35   IGTV 2022-02-10      8556          188   \n",
       "42   Foto 2022-02-26      8544           72   \n",
       "\n",
       "                                 Tags Pessoas Campanhas Carrossel  \\\n",
       "48      Datas comemorativas/Promoções       S         S         N   \n",
       "43                                NaN       S         S         N   \n",
       "45                             Trends       S         S         N   \n",
       "50                                NaN       S         N         N   \n",
       "49                                NaN       S         S         N   \n",
       "44  Dicas de como usar/Novos Produtos       S         N         N   \n",
       "47  Dicas de como usar/Novos Produtos       S         N         N   \n",
       "51        Dicas de como usar/Produtos       S         N         N   \n",
       "46                    Influenciadores       S         N         N   \n",
       "39                          Promoções       S         S         N   \n",
       "33                    Influenciadores       S         S         N   \n",
       "40                    Influenciadores       S         S         S   \n",
       "34                    Influenciadores       S         S         N   \n",
       "38                                NaN       S         N         N   \n",
       "37                Datas comemorativas       S         S         N   \n",
       "41                                NaN       S         N         N   \n",
       "36                           Produtos       S         S         N   \n",
       "32        Dicas de como usar/Produtos       S         N         N   \n",
       "35        Dicas de como usar/Produtos       S         N         N   \n",
       "42                    Influenciadores       S         S         N   \n",
       "\n",
       "    Interacoes      mes  \n",
       "48        29563  202203  \n",
       "43        24665  202203  \n",
       "45        19896  202203  \n",
       "50        16737  202203  \n",
       "49         9193  202203  \n",
       "44         6034  202203  \n",
       "47         5566  202203  \n",
       "51         4999  202203  \n",
       "46         4663  202203  \n",
       "39        37853  202202  \n",
       "33        24841  202202  \n",
       "40        21834  202202  \n",
       "34        20952  202202  \n",
       "38        17900  202202  \n",
       "37        15576  202202  \n",
       "41        12620  202202  \n",
       "36        11904  202202  \n",
       "32         9492  202202  \n",
       "35         8744  202202  \n",
       "42         8616  202202  "
      ]
     },
     "execution_count": 24,
     "metadata": {},
     "output_type": "execute_result"
    }
   ],
   "source": [
    "base[base.mes>=202202].sort_values([\"mes\",\"Curtidas\"], ascending=False)"
   ]
  },
  {
   "cell_type": "markdown",
   "id": "f3f2197b",
   "metadata": {},
   "source": [
    "***Dessa forma conseguimos ver o que puxou mais as curtidas e foram promoções***\n",
    "* Será que a promoção ta sendo boa, ou trazendo algo que não é orgânico?\n",
    "* Será que beneficia aquele post e afeta os outros?\n",
    "* O gráfico te ajuda a apresentar e a entender melhor sua análise e aprofundar nela, de forma visual é um pouco mais fácil\n",
    "* Como não foi orgânico esse ponto mais alto, podemos levar em consideração se conseguimos utilizar o trafégo para todos os posts, ou não\n",
    "* De qualquer jeito se conseguimos patrocinar ou não o que formos decidir precisamos ter base teórica para decidirmos fazer, e não sair rodando algortimos aleatoriamente e ver o que acontece ou qual resultado vai ocorrer"
   ]
  },
  {
   "cell_type": "markdown",
   "id": "0845853b",
   "metadata": {},
   "source": [
    "***Aconteceu um post patrocinado que aumentou muito as bendas de feveiro, foi a única vez que tivemos post patrocinado? Vamos buscar isso nas tags***\n",
    "* Podemos usar o contains para procurar a palavra patrocinado nas tags\n",
    "\n",
    "    * Porém o contais não aceita se valores Nan, logo precisamos tratar isso antes"
   ]
  },
  {
   "cell_type": "code",
   "execution_count": 25,
   "id": "7748fe25",
   "metadata": {},
   "outputs": [
    {
     "ename": "ValueError",
     "evalue": "Cannot mask with non-boolean array containing NA / NaN values",
     "output_type": "error",
     "traceback": [
      "\u001b[1;31m---------------------------------------------------------------------------\u001b[0m",
      "\u001b[1;31mValueError\u001b[0m                                Traceback (most recent call last)",
      "Cell \u001b[1;32mIn[25], line 1\u001b[0m\n\u001b[1;32m----> 1\u001b[0m base[base\u001b[38;5;241m.\u001b[39mTags\u001b[38;5;241m.\u001b[39mstr\u001b[38;5;241m.\u001b[39mcontains(\u001b[38;5;124m\"\u001b[39m\u001b[38;5;124mPromoções\u001b[39m\u001b[38;5;124m\"\u001b[39m)]\n",
      "File \u001b[1;32m~\\anaconda3\\Lib\\site-packages\\pandas\\core\\frame.py:3751\u001b[0m, in \u001b[0;36mDataFrame.__getitem__\u001b[1;34m(self, key)\u001b[0m\n\u001b[0;32m   3748\u001b[0m     \u001b[38;5;28;01mreturn\u001b[39;00m \u001b[38;5;28mself\u001b[39m\u001b[38;5;241m.\u001b[39mwhere(key)\n\u001b[0;32m   3750\u001b[0m \u001b[38;5;66;03m# Do we have a (boolean) 1d indexer?\u001b[39;00m\n\u001b[1;32m-> 3751\u001b[0m \u001b[38;5;28;01mif\u001b[39;00m com\u001b[38;5;241m.\u001b[39mis_bool_indexer(key):\n\u001b[0;32m   3752\u001b[0m     \u001b[38;5;28;01mreturn\u001b[39;00m \u001b[38;5;28mself\u001b[39m\u001b[38;5;241m.\u001b[39m_getitem_bool_array(key)\n\u001b[0;32m   3754\u001b[0m \u001b[38;5;66;03m# We are left with two options: a single key, and a collection of keys,\u001b[39;00m\n\u001b[0;32m   3755\u001b[0m \u001b[38;5;66;03m# We interpret tuples as collections only for non-MultiIndex\u001b[39;00m\n",
      "File \u001b[1;32m~\\anaconda3\\Lib\\site-packages\\pandas\\core\\common.py:134\u001b[0m, in \u001b[0;36mis_bool_indexer\u001b[1;34m(key)\u001b[0m\n\u001b[0;32m    130\u001b[0m     na_msg \u001b[38;5;241m=\u001b[39m \u001b[38;5;124m\"\u001b[39m\u001b[38;5;124mCannot mask with non-boolean array containing NA / NaN values\u001b[39m\u001b[38;5;124m\"\u001b[39m\n\u001b[0;32m    131\u001b[0m     \u001b[38;5;28;01mif\u001b[39;00m lib\u001b[38;5;241m.\u001b[39minfer_dtype(key_array) \u001b[38;5;241m==\u001b[39m \u001b[38;5;124m\"\u001b[39m\u001b[38;5;124mboolean\u001b[39m\u001b[38;5;124m\"\u001b[39m \u001b[38;5;129;01mand\u001b[39;00m isna(key_array)\u001b[38;5;241m.\u001b[39many():\n\u001b[0;32m    132\u001b[0m         \u001b[38;5;66;03m# Don't raise on e.g. [\"A\", \"B\", np.nan], see\u001b[39;00m\n\u001b[0;32m    133\u001b[0m         \u001b[38;5;66;03m#  test_loc_getitem_list_of_labels_categoricalindex_with_na\u001b[39;00m\n\u001b[1;32m--> 134\u001b[0m         \u001b[38;5;28;01mraise\u001b[39;00m \u001b[38;5;167;01mValueError\u001b[39;00m(na_msg)\n\u001b[0;32m    135\u001b[0m     \u001b[38;5;28;01mreturn\u001b[39;00m \u001b[38;5;28;01mFalse\u001b[39;00m\n\u001b[0;32m    136\u001b[0m \u001b[38;5;28;01mreturn\u001b[39;00m \u001b[38;5;28;01mTrue\u001b[39;00m\n",
      "\u001b[1;31mValueError\u001b[0m: Cannot mask with non-boolean array containing NA / NaN values"
     ]
    }
   ],
   "source": [
    "base[base.Tags.str.contains(\"Promoções\")] #Tentando usar o contains sem tratar\n",
    "# Ele vai verificar togas as tags da coluna promoções"
   ]
  },
  {
   "cell_type": "markdown",
   "id": "5eacac99",
   "metadata": {},
   "source": [
    "* O entedimento do erro é importante, ele já mostra no começo que o erro esta na ultima linha \n",
    "* A ultima linha mostra o tipo do erro, que contém Na ou NaN"
   ]
  },
  {
   "cell_type": "code",
   "execution_count": null,
   "id": "5a5ec466",
   "metadata": {},
   "outputs": [],
   "source": [
    "base.fillna(\"\").tail() # O '.fillna() vai substituir os valores Nan pelo novo valor que passarmos"
   ]
  },
  {
   "cell_type": "code",
   "execution_count": null,
   "id": "b38bc9fd",
   "metadata": {},
   "outputs": [],
   "source": [
    "base[base.fillna(\"\").Tags.str.contains(\"Promoções\")] #  Então podemos usar o vazio apenar para visualizar todas as tags que possuem marcação de patrocinado"
   ]
  },
  {
   "cell_type": "code",
   "execution_count": null,
   "id": "1763f3d2",
   "metadata": {},
   "outputs": [],
   "source": [
    "base = base.drop(48, axis = 0) # Apagando a linha do post patrocinado\n",
    "# axis =1 -> colunas axis = 0 -> linhas dropamos a 39 e 48"
   ]
  },
  {
   "cell_type": "code",
   "execution_count": null,
   "id": "e220d380",
   "metadata": {},
   "outputs": [],
   "source": [
    "#Refazendo os calculos pra base sem o post patrocinado e refazendo o plot\n",
    "media_mensal = base.groupby(\"mes\")[\"Curtidas\"].mean()\n",
    "minimo = base.groupby(\"mes\")[\"Curtidas\"].min()\n",
    "maximo = base.groupby(\"mes\")[\"Curtidas\"].max()\n",
    "\n",
    "# make data\n",
    "x = media_mensal.index.astype(str)\n",
    "y = media_mensal.values\n",
    "x1 = minimo.index.astype(str)\n",
    "y1 = minimo.values\n",
    "x2 = maximo.index.astype(str)\n",
    "y2 = maximo.values\n",
    "\n",
    "# plot\n",
    "fig, ax = plt.subplots(figsize=(5,5))\n",
    "\n",
    "ax.plot(x, y, linewidth=2.0)\n",
    "ax.plot(x1, y1, linewidth=2.0, color=\"r\")\n",
    "ax.plot(x2, y2, linewidth=2.0, color='g')\n",
    "\n",
    "\n",
    "plt.show()# Conseguimos resolver o \"outlnier\" e percebmos que promoção ajuda não e necessariamente um outliner mas sai do padrão"
   ]
  },
  {
   "cell_type": "markdown",
   "id": "75bb8def",
   "metadata": {},
   "source": [
    "## Como podemos visualizar as tags que mais impactaram o négocio\n"
   ]
  },
  {
   "cell_type": "code",
   "execution_count": null,
   "id": "819ead8b",
   "metadata": {},
   "outputs": [],
   "source": [
    "base.head()"
   ]
  },
  {
   "cell_type": "code",
   "execution_count": null,
   "id": "012c7047",
   "metadata": {},
   "outputs": [],
   "source": [
    "baseTags = base\n",
    "baseTags.Tags = baseTags.Tags.str.split(\"/\") # para dividir em duas linhas diferentes lembrando que não podemos usar a coluna tipo\n",
    "# Tem que ser usado a coluna tag por causa da duplicação\n",
    "baseTags = baseTags.explode('Tags')\n",
    "baseTags.head()"
   ]
  },
  {
   "cell_type": "code",
   "execution_count": null,
   "id": "a3dc106d",
   "metadata": {},
   "outputs": [],
   "source": [
    "baseTags.groupby(\"Tags\")[\"Curtidas\"].mean()"
   ]
  },
  {
   "cell_type": "markdown",
   "id": "5ff48e8b",
   "metadata": {},
   "source": [
    "***Olhando desse jeito é difícil apresentar esses dados para o cliente***"
   ]
  },
  {
   "cell_type": "code",
   "execution_count": null,
   "id": "2f9dafd8",
   "metadata": {},
   "outputs": [],
   "source": [
    "media = baseTags.groupby(\"Tags\")[\"Curtidas\"].mean().sort_values(ascending=False) \n",
    "\n",
    "x = media.index\n",
    "y = media.values\n",
    "\n",
    "fig, ax = plt.subplots(figsize=(5,5))\n",
    "\n",
    "ax.plot(x, y, linewidth=2.0)\n",
    "\n",
    "plt.show()"
   ]
  },
  {
   "cell_type": "markdown",
   "id": "bec80faf",
   "metadata": {},
   "source": [
    "***Percebemos que não está tão fácil de visualizar, teremos mais aulas para saber qual gráfico é melhor para cada situação***\n",
    "* Por enquanto olhar na documentação"
   ]
  },
  {
   "cell_type": "code",
   "execution_count": null,
   "id": "0f6bc2c0",
   "metadata": {},
   "outputs": [],
   "source": [
    "media = baseTags.groupby(\"Tags\")[\"Curtidas\"].mean().sort_values(ascending=False) \n",
    "\n",
    "x = media.index\n",
    "y = media.values\n",
    "\n",
    "fig, ax = plt.subplots(figsize=(12,5))\n",
    "\n",
    "ax.bar(x, y, linewidth=2.0)\n",
    "\n",
    "plt.show()\n",
    "# Nesse momento nós aprofundamos em tentr melhorar a apresentação para nosso cliente\n"
   ]
  },
  {
   "cell_type": "markdown",
   "id": "41167b44",
   "metadata": {},
   "source": [
    "***Ajustando o eixo x, usando o tick_params***\n",
    "* https://matplotlib.org/stable/api/_as_gen/matplotlib.axes.Axes.tick_params.html"
   ]
  },
  {
   "cell_type": "code",
   "execution_count": null,
   "id": "c55fda28",
   "metadata": {},
   "outputs": [],
   "source": [
    "fig, ax = plt.subplots()\n",
    "\n",
    "ax.bar(x, y, label=\"Curtidas\") \n",
    "\n",
    "ax.tick_params('x', labelrotation=75) # Rotacionando as legendas\n",
    "\n",
    "ax.legend() # adicionando legenda\n",
    "\n",
    "plt.show()"
   ]
  },
  {
   "cell_type": "markdown",
   "id": "0820ea1c",
   "metadata": {},
   "source": [
    "## Inserindo as quantidades de curtida nos gráficos\n",
    "* Para isso, vamos usar o annotate\n",
    "    * https://matplotlib.org/stable/api/_as_gen/matplotlib.pyplot.annotate.html\n",
    "    * Com ele você consegue colocar qualquer texto no seu gráfico\n",
    "    * Basta usar: plt.annotate(\"TEXTO\", (x,y))\n",
    "* Precisamos passar de argumentos:\n",
    "    * Texto que vai ser escrito\n",
    "    * Posição (x,y) onde o texto vai estar"
   ]
  },
  {
   "cell_type": "code",
   "execution_count": null,
   "id": "60a7a741",
   "metadata": {},
   "outputs": [],
   "source": [
    "#plot\n",
    "fig, ax = plt.subplots(figsize=(5,5))\n",
    "\n",
    "ax.bar(x, y, label=\"Curtidas\")\n",
    "ax.tick_params(\"x\",labelrotation=75)\n",
    "ax.legend()\n",
    "\n",
    "plt.annotate(20024,(-0.35,20200))# aqui na nossa primeira váriavel podemos por a altura no y\n",
    "plt.annotate(17975,(1-0.35,18100))\n",
    "plt.annotate(15197,(2-0.35,16000))# Aqui já começamos a perceber um padrão, isso porque estamos deslocando, mas poderiamos também colocar so 1 e 2\n",
    "# Podemos colcocar os valores no grafico também usando plt.annotate((y[0]),(0,y[0]))\n",
    "plt.show()"
   ]
  },
  {
   "cell_type": "code",
   "execution_count": null,
   "id": "ce329fad",
   "metadata": {},
   "outputs": [],
   "source": [
    "# plot\n",
    "fig, ax = plt.subplots(figsize=(10,5))\n",
    "\n",
    "ax.bar(x, y, label=\"curtidas\")\n",
    "ax.tick_params('x',labelrotation=75)\n",
    "ax.legend()\n",
    "\n",
    "# Colocando somente o primeiro valor no gráfico\n",
    "for i in range(0,8): # aqui usamos o for que é mais prático do que reescrever linhas e evita duplicação de código\n",
    "    plt.annotate(y[i],(i,y[i]))#usando i conseguimos passar para TODOS os valores no gráfico\n",
    "\n",
    "plt.show()"
   ]
  },
  {
   "cell_type": "code",
   "execution_count": null,
   "id": "76dd38e2",
   "metadata": {},
   "outputs": [],
   "source": [
    "#### Melhorando a formatação do annotate\n",
    "# plot\n",
    "fig, ax = plt.subplots(figsize=(8,8))\n",
    "\n",
    "ax.bar(x, y, label=\"curtidas\")\n",
    "ax.tick_params('x',labelrotation=75)\n",
    "ax.legend()\n",
    "\n",
    "# Colocando os valores nos gráficos\n",
    "## Precisamos fazer um loop para ir colocando os valores em cada uma das barras\n",
    "for i in np.arange(0,8):\n",
    "    plt.annotate('{:,.0f}'.format(y[i]), # formatando o número\n",
    "                 (i,y[i]), # colocando a posição do elemento \n",
    "                 # outros parâmetros\n",
    "                 ha=\"center\", # alinhamento horizontal\n",
    "                 xytext=(0,5), # deslocamento x,y do texto\n",
    "                 textcoords=\"offset points\" # referencial que vamos fazer o deslocamento\n",
    "                )\n",
    "\n",
    "ax.set(ylim=(0, 30000))# Tamanho do gráfico\n",
    "\n",
    "plt.show()# Dessa forma conseguimos visualizar todos os valores de forma clara"
   ]
  },
  {
   "cell_type": "markdown",
   "id": "afd09469",
   "metadata": {},
   "source": [
    "## Criando um scatter plot usando apenas a documentação\n",
    "- https://matplotlib.org/\n",
    "    - Plot Types\n",
    "    - scatter(x,y)"
   ]
  },
  {
   "cell_type": "code",
   "execution_count": 26,
   "id": "bd54c504",
   "metadata": {},
   "outputs": [
    {
     "data": {
      "image/png": "[encoded data removed]",
      "text/plain": [
       "<Figure size 200x200 with 1 Axes>"
      ]
     },
     "metadata": {},
     "output_type": "display_data"
    }
   ],
   "source": [
    "import matplotlib.pyplot as plt # importanto matplotlib\n",
    "\n",
    "import numpy as np # importando numpy\n",
    "# make the data\n",
    "np.random.seed(3)\n",
    "x = 4 + np.random.normal(0, 2, 24)\n",
    "y = 4 + np.random.normal(0, 2, len(x))\n",
    "# size and color:\n",
    "sizes = np.random.uniform(15, 80, len(x))\n",
    "colors = np.random.uniform(15, 80, len(x))\n",
    "\n",
    "# plot\n",
    "fig, ax = plt.subplots()\n",
    "\n",
    "ax.scatter(x, y, s=sizes, c=colors, vmin=0, vmax=100)\n",
    "\n",
    "ax.set(xlim=(0, 8), xticks=np.arange(1, 8),\n",
    "       ylim=(0, 8), yticks=np.arange(1, 8))\n",
    "\n",
    "plt.show()"
   ]
  },
  {
   "cell_type": "code",
   "execution_count": 27,
   "id": "7521f4d7",
   "metadata": {},
   "outputs": [
    {
     "name": "stdout",
     "output_type": "stream",
     "text": [
      "[7.57725695 4.8730197  4.19299494 0.27301459 3.44522359 3.29048204\n",
      " 3.83451704 2.74599865 3.91236366 3.04556394 1.37227049 5.76924476\n",
      " 5.76263608 7.41914613 4.10006728 3.19064517 2.9092801  0.90704537\n",
      " 5.96473487 1.79786474 1.62990695 3.5887002  6.97229671 4.47343253]\n"
     ]
    }
   ],
   "source": [
    "# Na parte dos dados, a gente pode usar a relação de curtidas x comentários\n",
    "\n",
    "x = base.Curtidas\n",
    "y = base.Comentários"
   ]
  },
  {
   "cell_type": "code",
   "execution_count": 28,
   "id": "4effc05a",
   "metadata": {},
   "outputs": [
    {
     "data": {
      "image/png": "[encoded data removed]",
      "text/plain": [
       "<Figure size 200x200 with 1 Axes>"
      ]
     },
     "metadata": {},
     "output_type": "display_data"
    }
   ],
   "source": [
    "# Depois já podemos ir direto pro plot, usando apenas o básico\n",
    "fig, ax = plt.subplots()\n",
    "\n",
    "ax.scatter(x, y)\n",
    "\n",
    "plt.show()"
   ]
  },
  {
   "cell_type": "code",
   "execution_count": 29,
   "id": "54cb71c0",
   "metadata": {},
   "outputs": [
    {
     "data": {
      "text/plain": [
       "array(['Foto', 'Vídeo', 'Reels', 'IGTV'], dtype=object)"
      ]
     },
     "execution_count": 29,
     "metadata": {},
     "output_type": "execute_result"
    }
   ],
   "source": [
    "base.Tipo.unique()"
   ]
  },
  {
   "cell_type": "code",
   "execution_count": 30,
   "id": "38b3df0d",
   "metadata": {},
   "outputs": [],
   "source": [
    "def tipo_para_numero(tipo):\n",
    "    if(tipo == 'Foto'):\n",
    "        return 1\n",
    "    elif(tipo == 'Vídeo'):\n",
    "        return 2\n",
    "    elif(tipo == 'Reels'):\n",
    "        return 3\n",
    "    elif(tipo == 'IGTV'):\n",
    "        return 4"
   ]
  },
  {
   "cell_type": "code",
   "execution_count": 36,
   "id": "7b296d69",
   "metadata": {},
   "outputs": [],
   "source": [
    "base['NrTipo'] = base.Tipo.apply(tipo_para_numero)"
   ]
  },
  {
   "cell_type": "code",
   "execution_count": 49,
   "id": "537542e0",
   "metadata": {},
   "outputs": [
    {
     "data": {
      "text/html": [
       "<div>\n",
       "<style scoped>\n",
       "    .dataframe tbody tr th:only-of-type {\n",
       "        vertical-align: middle;\n",
       "    }\n",
       "\n",
       "    .dataframe tbody tr th {\n",
       "        vertical-align: top;\n",
       "    }\n",
       "\n",
       "    .dataframe thead th {\n",
       "        text-align: right;\n",
       "    }\n",
       "</style>\n",
       "<table border=\"1\" class=\"dataframe\">\n",
       "  <thead>\n",
       "    <tr style=\"text-align: right;\">\n",
       "      <th></th>\n",
       "      <th>Tipo</th>\n",
       "      <th>Data</th>\n",
       "      <th>Curtidas</th>\n",
       "      <th>Comentários</th>\n",
       "      <th>Tags</th>\n",
       "      <th>Pessoas</th>\n",
       "      <th>Campanhas</th>\n",
       "      <th>Carrossel</th>\n",
       "      <th>Interacoes</th>\n",
       "      <th>mes</th>\n",
       "      <th>NrTipo</th>\n",
       "    </tr>\n",
       "  </thead>\n",
       "  <tbody>\n",
       "    <tr>\n",
       "      <th>0</th>\n",
       "      <td>Foto</td>\n",
       "      <td>2021-09-11</td>\n",
       "      <td>2858</td>\n",
       "      <td>16</td>\n",
       "      <td>Loja</td>\n",
       "      <td>N</td>\n",
       "      <td>N</td>\n",
       "      <td>N</td>\n",
       "      <td>2874</td>\n",
       "      <td>202109</td>\n",
       "      <td>1</td>\n",
       "    </tr>\n",
       "    <tr>\n",
       "      <th>1</th>\n",
       "      <td>Foto</td>\n",
       "      <td>2021-09-11</td>\n",
       "      <td>2930</td>\n",
       "      <td>28</td>\n",
       "      <td>Loja/Produtos</td>\n",
       "      <td>N</td>\n",
       "      <td>N</td>\n",
       "      <td>N</td>\n",
       "      <td>2958</td>\n",
       "      <td>202109</td>\n",
       "      <td>1</td>\n",
       "    </tr>\n",
       "    <tr>\n",
       "      <th>2</th>\n",
       "      <td>Foto</td>\n",
       "      <td>2021-09-11</td>\n",
       "      <td>2807</td>\n",
       "      <td>9</td>\n",
       "      <td>Loja</td>\n",
       "      <td>N</td>\n",
       "      <td>N</td>\n",
       "      <td>N</td>\n",
       "      <td>2816</td>\n",
       "      <td>202109</td>\n",
       "      <td>1</td>\n",
       "    </tr>\n",
       "    <tr>\n",
       "      <th>3</th>\n",
       "      <td>Vídeo</td>\n",
       "      <td>2021-09-12</td>\n",
       "      <td>5115</td>\n",
       "      <td>49</td>\n",
       "      <td>Produtos</td>\n",
       "      <td>N</td>\n",
       "      <td>N</td>\n",
       "      <td>N</td>\n",
       "      <td>5164</td>\n",
       "      <td>202109</td>\n",
       "      <td>2</td>\n",
       "    </tr>\n",
       "    <tr>\n",
       "      <th>4</th>\n",
       "      <td>Foto</td>\n",
       "      <td>2021-09-13</td>\n",
       "      <td>4392</td>\n",
       "      <td>45</td>\n",
       "      <td>Produtos</td>\n",
       "      <td>S</td>\n",
       "      <td>N</td>\n",
       "      <td>N</td>\n",
       "      <td>4437</td>\n",
       "      <td>202109</td>\n",
       "      <td>1</td>\n",
       "    </tr>\n",
       "  </tbody>\n",
       "</table>\n",
       "</div>"
      ],
      "text/plain": [
       "    Tipo       Data  Curtidas  Comentários           Tags Pessoas Campanhas  \\\n",
       "0   Foto 2021-09-11      2858           16           Loja       N         N   \n",
       "1   Foto 2021-09-11      2930           28  Loja/Produtos       N         N   \n",
       "2   Foto 2021-09-11      2807            9           Loja       N         N   \n",
       "3  Vídeo 2021-09-12      5115           49       Produtos       N         N   \n",
       "4   Foto 2021-09-13      4392           45       Produtos       S         N   \n",
       "\n",
       "  Carrossel  Interacoes      mes  NrTipo  \n",
       "0         N         2874  202109       1  \n",
       "1         N         2958  202109       1  \n",
       "2         N         2816  202109       1  \n",
       "3         N         5164  202109       2  \n",
       "4         N         4437  202109       1  "
      ]
     },
     "execution_count": 49,
     "metadata": {},
     "output_type": "execute_result"
    }
   ],
   "source": [
    "base.head()"
   ]
  },
  {
   "cell_type": "code",
   "execution_count": 55,
   "id": "9999c4ba",
   "metadata": {},
   "outputs": [],
   "source": [
    "colors = base.NrTipo"
   ]
  },
  {
   "cell_type": "code",
   "execution_count": null,
   "id": "fadb9133",
   "metadata": {},
   "outputs": [],
   "source": [
    "# Depois já podemos ir direto pro plot, usando apenas o básico\n",
    "fig, ax = plt.subplots()\n",
    "\n",
    "ax.scatter(x, y, c=colors)\n",
    "\n",
    "plt.show()"
   ]
  },
  {
   "cell_type": "code",
   "execution_count": null,
   "id": "761d6a2b",
   "metadata": {},
   "outputs": [],
   "source": [
    "### DICA: Podemos também adicionar a legenda em relação a cada um dos pontos\n",
    "fig, ax = plt.subplots()\n",
    "\n",
    "scatter_plot = ax.scatter(x, y, c=colors)\n",
    "\n",
    "ax.legend(handles=scatter_plot.legend_elements()[0], labels=['Foto','Vídeo','Reels','IGTV'])\n",
    "    \n",
    "plt.show()"
   ]
  },
  {
   "cell_type": "code",
   "execution_count": null,
   "id": "97973dde",
   "metadata": {},
   "outputs": [],
   "source": []
  }
 ],
 "metadata": {
  "kernelspec": {
   "display_name": "Python 3 (ipykernel)",
   "language": "python",
   "name": "python3"
  },
  "language_info": {
   "codemirror_mode": {
    "name": "ipython",
    "version": 3
   },
   "file_extension": ".py",
   "mimetype": "text/x-python",
   "name": "python",
   "nbconvert_exporter": "python",
   "pygments_lexer": "ipython3",
   "version": "3.11.5"
  }
 },
 "nbformat": 4,
 "nbformat_minor": 5
}
