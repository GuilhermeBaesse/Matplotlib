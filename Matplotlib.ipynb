{
 "cells": [
  {
   "cell_type": "markdown",
   "id": "49b49f48",
   "metadata": {},
   "source": [
    "# Matplotlib\n",
    "* https://matplotlib.org\n",
    "* Aqui as ferramentas do matplotlib serão apresentadas e a ideia é buscar aprofundamento na ***documentação***\n",
    "* No projeto analisando dados do instagram conseguimos levantar algumas hipóteses utilziando estatísticas, mas isso é pouco\n",
    "* Precisamos mostrar como nossos dados estão distríbuidos, como eles se comportam e como podemos mostrar para os nossos clientes\n",
    "* Permite a criação e visualizações estáticas mais simples até os gráficos mais complexos e elaborados\n",
    "* Existem diversas bibliotecas para visualização porém a matplotlib é a melhor par começar\n",
    "* Como dia a própria documentação, ele torna o que é fácil, fácil e as coiss difíceis, possíveis de serem feitas!\n",
    "* Ela é bem completa e também é útil para analytics \n",
    "* Não possui tanta customização quanto outras bibliotecas e ***pode deixar a desejar no apelo estético em alguns casos***\n",
    "\n",
    "## Pyplot\n",
    "* O Pyplot é o módulo do matplotlib que possui os gráficos básicosnormalmente usados nessa biblioteca\n",
    "* Como vai ser muito usado vai ser um módulo importado diretamente\n",
    "\n",
    "\n"
   ]
  },
  {
   "cell_type": "code",
   "execution_count": 1,
   "id": "162a100d",
   "metadata": {},
   "outputs": [
    {
     "data": {
      "image/png": "[encoded data removed]",
      "text/plain": [
       "<Figure size 640x480 with 1 Axes>"
      ]
     },
     "metadata": {},
     "output_type": "display_data"
    }
   ],
   "source": [
    "# Criando o primeiro plot \n",
    "# Disponível em: https://matplotlib.org/stable/users/getting_started/index.html\n",
    "import matplotlib.pyplot as plt\n",
    "import numpy as np\n",
    "\n",
    "x = np.linspace(0, 2 * np.pi, 200)\n",
    "y = np.sin(x)\n",
    "\n",
    "fig, ax = plt.subplots()\n",
    "ax.plot(x, y)\n",
    "plt.show()"
   ]
  },
  {
   "cell_type": "code",
   "execution_count": 1,
   "id": "007bd76d",
   "metadata": {},
   "outputs": [],
   "source": [
    "import matplotlib.pyplot as plt # importanto matplotlib\n",
    "\n",
    "import numpy as np # importando numpy\n",
    "import pandas as pd # importando pandas\n",
    "import datetime as dt # importando datetime"
   ]
  },
  {
   "cell_type": "markdown",
   "id": "7addf9f8",
   "metadata": {},
   "source": [
    "## Vamos usar a base do instagram\n",
    "* Já interpretamos esses dados por meio análises estatísticas\n",
    "* Temos uma noção da sua visuzalição em tabela\n",
    "* Fica como uma forma complementar para aprofundarmos mais e tentar chegar mais próximo da realidade do que um cientista de dados faz"
   ]
  },
  {
   "cell_type": "code",
   "execution_count": 5,
   "id": "596a48eb",
   "metadata": {},
   "outputs": [],
   "source": [
    "base = pd.read_excel(\"08. Analisando o engajamento no Instagram.xlsx\") # importar a base do excel\n",
    "base = base.drop(\"Visualizações\", axis=1) # Apagando a coluna \"Visualizações\"\n",
    "base.loc[base.Carrossel.isnull(),\"Carrossel\"] = \"N\" # Atribuindo o valor N para coluna carrosel"
   ]
  },
  {
   "cell_type": "code",
   "execution_count": 6,
   "id": "2426ee89",
   "metadata": {},
   "outputs": [
    {
     "data": {
      "text/html": [
       "<div>\n",
       "<style scoped>\n",
       "    .dataframe tbody tr th:only-of-type {\n",
       "        vertical-align: middle;\n",
       "    }\n",
       "\n",
       "    .dataframe tbody tr th {\n",
       "        vertical-align: top;\n",
       "    }\n",
       "\n",
       "    .dataframe thead th {\n",
       "        text-align: right;\n",
       "    }\n",
       "</style>\n",
       "<table border=\"1\" class=\"dataframe\">\n",
       "  <thead>\n",
       "    <tr style=\"text-align: right;\">\n",
       "      <th></th>\n",
       "      <th>Tipo</th>\n",
       "      <th>Data</th>\n",
       "      <th>Curtidas</th>\n",
       "      <th>Comentários</th>\n",
       "      <th>Tags</th>\n",
       "      <th>Pessoas</th>\n",
       "      <th>Campanhas</th>\n",
       "      <th>Carrossel</th>\n",
       "      <th>Interacoes</th>\n",
       "    </tr>\n",
       "  </thead>\n",
       "  <tbody>\n",
       "    <tr>\n",
       "      <th>0</th>\n",
       "      <td>Foto</td>\n",
       "      <td>2021-09-11</td>\n",
       "      <td>2858</td>\n",
       "      <td>16</td>\n",
       "      <td>Loja</td>\n",
       "      <td>N</td>\n",
       "      <td>N</td>\n",
       "      <td>N</td>\n",
       "      <td>2874</td>\n",
       "    </tr>\n",
       "    <tr>\n",
       "      <th>1</th>\n",
       "      <td>Foto</td>\n",
       "      <td>2021-09-11</td>\n",
       "      <td>2930</td>\n",
       "      <td>28</td>\n",
       "      <td>Loja/Produtos</td>\n",
       "      <td>N</td>\n",
       "      <td>N</td>\n",
       "      <td>N</td>\n",
       "      <td>2958</td>\n",
       "    </tr>\n",
       "    <tr>\n",
       "      <th>2</th>\n",
       "      <td>Foto</td>\n",
       "      <td>2021-09-11</td>\n",
       "      <td>2807</td>\n",
       "      <td>9</td>\n",
       "      <td>Loja</td>\n",
       "      <td>N</td>\n",
       "      <td>N</td>\n",
       "      <td>N</td>\n",
       "      <td>2816</td>\n",
       "    </tr>\n",
       "    <tr>\n",
       "      <th>3</th>\n",
       "      <td>Vídeo</td>\n",
       "      <td>2021-09-12</td>\n",
       "      <td>5115</td>\n",
       "      <td>49</td>\n",
       "      <td>Produtos</td>\n",
       "      <td>N</td>\n",
       "      <td>N</td>\n",
       "      <td>N</td>\n",
       "      <td>5164</td>\n",
       "    </tr>\n",
       "    <tr>\n",
       "      <th>4</th>\n",
       "      <td>Foto</td>\n",
       "      <td>2021-09-13</td>\n",
       "      <td>4392</td>\n",
       "      <td>45</td>\n",
       "      <td>Produtos</td>\n",
       "      <td>S</td>\n",
       "      <td>N</td>\n",
       "      <td>N</td>\n",
       "      <td>4437</td>\n",
       "    </tr>\n",
       "  </tbody>\n",
       "</table>\n",
       "</div>"
      ],
      "text/plain": [
       "    Tipo       Data  Curtidas  Comentários           Tags Pessoas Campanhas  \\\n",
       "0   Foto 2021-09-11      2858           16           Loja       N         N   \n",
       "1   Foto 2021-09-11      2930           28  Loja/Produtos       N         N   \n",
       "2   Foto 2021-09-11      2807            9           Loja       N         N   \n",
       "3  Vídeo 2021-09-12      5115           49       Produtos       N         N   \n",
       "4   Foto 2021-09-13      4392           45       Produtos       S         N   \n",
       "\n",
       "  Carrossel  Interacoes   \n",
       "0         N         2874  \n",
       "1         N         2958  \n",
       "2         N         2816  \n",
       "3         N         5164  \n",
       "4         N         4437  "
      ]
     },
     "execution_count": 6,
     "metadata": {},
     "output_type": "execute_result"
    }
   ],
   "source": [
    "base.head() # Exibindo primeiras linhas do dataframe"
   ]
  },
  {
   "cell_type": "markdown",
   "id": "61133ba3",
   "metadata": {},
   "source": [
    "## Criando um plot no matplotlib\n",
    "* https://matplotlib.org/stable/plot_types/basic/plot.html"
   ]
  },
  {
   "cell_type": "code",
   "execution_count": 7,
   "id": "8d6e2248",
   "metadata": {},
   "outputs": [
    {
     "data": {
      "image/png": "[encoded data removed]",
      "text/plain": [
       "<Figure size 200x200 with 1 Axes>"
      ]
     },
     "metadata": {},
     "output_type": "display_data"
    }
   ],
   "source": [
    "plt.style.use('_mpl-gallery')\n",
    "\n",
    "# make data\n",
    "x = np.linspace(0, 10, 100)\n",
    "y = 4 + 2 * np.sin(2 * x)\n",
    "\n",
    "# plot tudo para baixo, podemos ter mais de um, tendo inclusive na forma de grid ou matriz, passando como argumentos do subplots\n",
    "fig, ax = plt.subplots() #Relacionado a figura\n",
    "\n",
    "ax.plot(x, y, linewidth=2.0) # Aqui é o tipo do plot, gráfico de linha, coluna, sctter etc.\n",
    "\n",
    "ax.set(xlim=(0, 8), xticks=np.arange(1, 8),\n",
    "       ylim=(0, 8), yticks=np.arange(1, 8))\n",
    "# Uma dica para aprender documentação é tirar as coisas, por exemplo argumentos ou funções \n",
    "# E ver como eles funcionam, se eles se relacionam e o nível de influência\n",
    "plt.show()"
   ]
  },
  {
   "cell_type": "markdown",
   "id": "a6910319",
   "metadata": {},
   "source": [
    "# Partes da figura\n",
    "* Mostra cada parte da figura que nós podemos alterar\n",
    "* Também encontra-se na [documentação](https://matplotlib.org/stable/users/explain/quick_start.html)\n",
    "![Partes da figura](https://matplotlib.org/stable/_images/anatomy.png)\n"
   ]
  },
  {
   "cell_type": "code",
   "execution_count": 15,
   "id": "5f59ee95",
   "metadata": {},
   "outputs": [
    {
     "data": {
      "image/png": "[encoded data removed]",
      "text/plain": [
       "<Figure size 1000x500 with 1 Axes>"
      ]
     },
     "metadata": {},
     "output_type": "display_data"
    }
   ],
   "source": [
    "# Make data\n",
    "x = base.Data # Seguimos a mesma lógica da documentação\n",
    "y = base.Curtidas\n",
    "\n",
    "fig, ax = plt.subplots(figsize=(10,5)) \n",
    "\n",
    "ax.plot(x, y, linewidth=2.0)  # Podemos plotar de outas formas também usando outros gráficos basta olhar\n",
    "# https://matplotlib.org/stable/plot_types/index.html\n",
    "# O jeito que decidimos mostrar os dados vai depender do jeito que está criando, a forma, como quer apresentar para o seu público\n",
    "# Ou seja é cada vez mais importante conhecer seu público/seu cliente\n",
    "plt.show()"
   ]
  },
  {
   "cell_type": "markdown",
   "id": "21649046",
   "metadata": {},
   "source": [
    "## Será que existe uma tendência de queda nas curtidas?\n",
    "* Vamos fazer uma análise mensak\n",
    "    * Para isso precisamos criar a coluna mês/ano"
   ]
  },
  {
   "cell_type": "code",
   "execution_count": 18,
   "id": "8b15447d",
   "metadata": {},
   "outputs": [
    {
     "data": {
      "text/html": [
       "<div>\n",
       "<style scoped>\n",
       "    .dataframe tbody tr th:only-of-type {\n",
       "        vertical-align: middle;\n",
       "    }\n",
       "\n",
       "    .dataframe tbody tr th {\n",
       "        vertical-align: top;\n",
       "    }\n",
       "\n",
       "    .dataframe thead th {\n",
       "        text-align: right;\n",
       "    }\n",
       "</style>\n",
       "<table border=\"1\" class=\"dataframe\">\n",
       "  <thead>\n",
       "    <tr style=\"text-align: right;\">\n",
       "      <th></th>\n",
       "      <th>Tipo</th>\n",
       "      <th>Data</th>\n",
       "      <th>Curtidas</th>\n",
       "      <th>Comentários</th>\n",
       "      <th>Tags</th>\n",
       "      <th>Pessoas</th>\n",
       "      <th>Campanhas</th>\n",
       "      <th>Carrossel</th>\n",
       "      <th>Interacoes</th>\n",
       "      <th>mês</th>\n",
       "      <th>mes</th>\n",
       "    </tr>\n",
       "  </thead>\n",
       "  <tbody>\n",
       "    <tr>\n",
       "      <th>0</th>\n",
       "      <td>Foto</td>\n",
       "      <td>2021-09-11</td>\n",
       "      <td>2858</td>\n",
       "      <td>16</td>\n",
       "      <td>Loja</td>\n",
       "      <td>N</td>\n",
       "      <td>N</td>\n",
       "      <td>N</td>\n",
       "      <td>2874</td>\n",
       "      <td>202109</td>\n",
       "      <td>202109</td>\n",
       "    </tr>\n",
       "    <tr>\n",
       "      <th>1</th>\n",
       "      <td>Foto</td>\n",
       "      <td>2021-09-11</td>\n",
       "      <td>2930</td>\n",
       "      <td>28</td>\n",
       "      <td>Loja/Produtos</td>\n",
       "      <td>N</td>\n",
       "      <td>N</td>\n",
       "      <td>N</td>\n",
       "      <td>2958</td>\n",
       "      <td>202109</td>\n",
       "      <td>202109</td>\n",
       "    </tr>\n",
       "    <tr>\n",
       "      <th>2</th>\n",
       "      <td>Foto</td>\n",
       "      <td>2021-09-11</td>\n",
       "      <td>2807</td>\n",
       "      <td>9</td>\n",
       "      <td>Loja</td>\n",
       "      <td>N</td>\n",
       "      <td>N</td>\n",
       "      <td>N</td>\n",
       "      <td>2816</td>\n",
       "      <td>202109</td>\n",
       "      <td>202109</td>\n",
       "    </tr>\n",
       "    <tr>\n",
       "      <th>3</th>\n",
       "      <td>Vídeo</td>\n",
       "      <td>2021-09-12</td>\n",
       "      <td>5115</td>\n",
       "      <td>49</td>\n",
       "      <td>Produtos</td>\n",
       "      <td>N</td>\n",
       "      <td>N</td>\n",
       "      <td>N</td>\n",
       "      <td>5164</td>\n",
       "      <td>202109</td>\n",
       "      <td>202109</td>\n",
       "    </tr>\n",
       "    <tr>\n",
       "      <th>4</th>\n",
       "      <td>Foto</td>\n",
       "      <td>2021-09-13</td>\n",
       "      <td>4392</td>\n",
       "      <td>45</td>\n",
       "      <td>Produtos</td>\n",
       "      <td>S</td>\n",
       "      <td>N</td>\n",
       "      <td>N</td>\n",
       "      <td>4437</td>\n",
       "      <td>202109</td>\n",
       "      <td>202109</td>\n",
       "    </tr>\n",
       "  </tbody>\n",
       "</table>\n",
       "</div>"
      ],
      "text/plain": [
       "    Tipo       Data  Curtidas  Comentários           Tags Pessoas Campanhas  \\\n",
       "0   Foto 2021-09-11      2858           16           Loja       N         N   \n",
       "1   Foto 2021-09-11      2930           28  Loja/Produtos       N         N   \n",
       "2   Foto 2021-09-11      2807            9           Loja       N         N   \n",
       "3  Vídeo 2021-09-12      5115           49       Produtos       N         N   \n",
       "4   Foto 2021-09-13      4392           45       Produtos       S         N   \n",
       "\n",
       "  Carrossel  Interacoes      mês     mes  \n",
       "0         N         2874  202109  202109  \n",
       "1         N         2958  202109  202109  \n",
       "2         N         2816  202109  202109  \n",
       "3         N         5164  202109  202109  \n",
       "4         N         4437  202109  202109  "
      ]
     },
     "execution_count": 18,
     "metadata": {},
     "output_type": "execute_result"
    }
   ],
   "source": [
    "base[\"mes\"] = base.Data.dt.year*100 + base.Data.dt.month  # Criando a coluna mês, o dt já foi importado\n",
    "base.head() # Verificando se a coluna foi criada"
   ]
  },
  {
   "cell_type": "code",
   "execution_count": 34,
   "id": "0641fa99",
   "metadata": {},
   "outputs": [
    {
     "name": "stdout",
     "output_type": "stream",
     "text": [
      "mes\n",
      "202109     6181.500000\n",
      "202110    13390.400000\n",
      "202111     4682.000000\n",
      "202112    11863.833333\n",
      "202201    15913.285714\n",
      "202202    17081.363636\n",
      "202203    13299.555556\n",
      "Name: Curtidas, dtype: float64\n"
     ]
    }
   ],
   "source": [
    "# Para transformar em gráfico, podemos usar o groupby para conseguir fazer essa transformação\n",
    "media_mensal = base.groupby(\"mes\")[\"Curtidas\"].mean()\n",
    "print(media_mensal)"
   ]
  },
  {
   "cell_type": "code",
   "execution_count": 35,
   "id": "4bfae30c",
   "metadata": {},
   "outputs": [
    {
     "data": {
      "text/plain": [
       "pandas.core.series.Series"
      ]
     },
     "execution_count": 35,
     "metadata": {},
     "output_type": "execute_result"
    }
   ],
   "source": [
    "type(media_mensal) # É uma série com seus indices e valores"
   ]
  },
  {
   "cell_type": "code",
   "execution_count": 38,
   "id": "482c0f3d",
   "metadata": {},
   "outputs": [
    {
     "data": {
      "text/plain": [
       "Index([202109, 202110, 202111, 202112, 202201, 202202, 202203], dtype='int32', name='mes')"
      ]
     },
     "execution_count": 38,
     "metadata": {},
     "output_type": "execute_result"
    }
   ],
   "source": [
    "media_mensal.index # Aqui conseguimos ver seu index"
   ]
  },
  {
   "cell_type": "code",
   "execution_count": 39,
   "id": "8151703f",
   "metadata": {},
   "outputs": [
    {
     "data": {
      "text/plain": [
       "array([ 6181.5       , 13390.4       ,  4682.        , 11863.83333333,\n",
       "       15913.28571429, 17081.36363636, 13299.55555556])"
      ]
     },
     "execution_count": 39,
     "metadata": {},
     "output_type": "execute_result"
    }
   ],
   "source": [
    " media_mensal.values # E aqui seus valores"
   ]
  },
  {
   "cell_type": "code",
   "execution_count": 32,
   "id": "fe08eab6",
   "metadata": {},
   "outputs": [
    {
     "name": "stdout",
     "output_type": "stream",
     "text": [
      "            Curtidas\n",
      "mes                 \n",
      "202109   6181.500000\n",
      "202110  13390.400000\n",
      "202111   4682.000000\n",
      "202112  11863.833333\n",
      "202201  15913.285714\n",
      "202202  17081.363636\n",
      "202203  13299.555556\n"
     ]
    }
   ],
   "source": [
    "tabela = pd.pivot_table(base, values =\"Curtidas\", index=\"mes\") # No curso datacamp Mostra que também podemos usar o pivot_table \n",
    "print(tabela) # ele faz algo similar ao groupby porém em forma de tabela"
   ]
  },
  {
   "cell_type": "code",
   "execution_count": 36,
   "id": "ad09ba06",
   "metadata": {},
   "outputs": [
    {
     "data": {
      "text/plain": [
       "pandas.core.frame.DataFrame"
      ]
     },
     "execution_count": 36,
     "metadata": {},
     "output_type": "execute_result"
    }
   ],
   "source": [
    "type(tabela)  # Aqui podemos ver que ele é um DataFrame"
   ]
  },
  {
   "cell_type": "code",
   "execution_count": 40,
   "id": "cc913d50",
   "metadata": {},
   "outputs": [
    {
     "data": {
      "text/plain": [
       "Index([202109, 202110, 202111, 202112, 202201, 202202, 202203], dtype='int32', name='mes')"
      ]
     },
     "execution_count": 40,
     "metadata": {},
     "output_type": "execute_result"
    }
   ],
   "source": [
    "tabela.index # Aqui exibimos seu index"
   ]
  },
  {
   "cell_type": "markdown",
   "id": "86fad455",
   "metadata": {},
   "source": [
    "***Usamos o groupby para criar o gráfico***"
   ]
  },
  {
   "cell_type": "code",
   "execution_count": 44,
   "id": "08c5e108",
   "metadata": {},
   "outputs": [
    {
     "data": {
      "image/png": "[encoded data removed]",
      "text/plain": [
       "<Figure size 500x500 with 1 Axes>"
      ]
     },
     "metadata": {},
     "output_type": "display_data"
    }
   ],
   "source": [
    "x = media_mensal.index\n",
    "y = media_mensal.values\n",
    "\n",
    "#plot\n",
    "fig, ax = plt.subplots(figsize=(5,5))\n",
    "\n",
    "ax.plot(x, y, linewidth=2.0)\n",
    "\n",
    "plt.show() # O plot ficou estranho devido ao intervalo de tempo que não possui alguns valores, ele considera a data como um inteiro absoluto\n",
    "# então ele só liga do último valor que teve até o próximo"
   ]
  },
  {
   "cell_type": "markdown",
   "id": "915e6667",
   "metadata": {},
   "source": [
    "***Uma forma de resolver é considerar como string ao invés de um inteiro***"
   ]
  },
  {
   "cell_type": "code",
   "execution_count": null,
   "id": "9f6582de",
   "metadata": {},
   "outputs": [],
   "source": []
  },
  {
   "cell_type": "code",
   "execution_count": 46,
   "id": "109a7ea8",
   "metadata": {},
   "outputs": [
    {
     "data": {
      "image/png": "[encoded data removed]",
      "text/plain": [
       "<Figure size 500x500 with 1 Axes>"
      ]
     },
     "metadata": {},
     "output_type": "display_data"
    }
   ],
   "source": [
    "x = media_mensal.index.astype(str)\n",
    "y = media_mensal.values\n",
    "\n",
    "#plot\n",
    "fig, ax = plt.subplots(figsize=(5,5))\n",
    "\n",
    "ax.plot(x, y, linewidth=2.0)\n",
    "\n",
    "plt.show()"
   ]
  },
  {
   "cell_type": "markdown",
   "id": "ed4141cf",
   "metadata": {},
   "source": [
    "* Pode ser um indicador, teve um pico de curtidas, porque? No instagram será que estava mostrando melhor o conteúdo\n",
    "* Será que talvez como era o começo da página as pessoas estavam mais engajadas em curtir\n",
    "* Porque será que caiu, porque as pessoas começaram a seguir outras páginas\n",
    "* Depois organicamente aumentamos as curtidas, e depois tive uma queda, devo me preocupar? ***Depende***"
   ]
  },
  {
   "cell_type": "markdown",
   "id": "1146e770",
   "metadata": {},
   "source": [
    "## Adicionando novos dados nesse gráfico"
   ]
  },
  {
   "cell_type": "code",
   "execution_count": 47,
   "id": "7f4c84d6",
   "metadata": {},
   "outputs": [],
   "source": [
    "# Fazendo para o mínimo e máximo par verificar se a média é condizente \n",
    "minimo = base.groupby(\"mes\")[\"Curtidas\"].min() \n",
    "maximo = base.groupby(\"mes\")[\"Curtidas\"].max()"
   ]
  },
  {
   "cell_type": "code",
   "execution_count": 49,
   "id": "a5015b23",
   "metadata": {},
   "outputs": [
    {
     "data": {
      "image/png": "[encoded data removed]",
      "text/plain": [
       "<Figure size 500x500 with 1 Axes>"
      ]
     },
     "metadata": {},
     "output_type": "display_data"
    }
   ],
   "source": [
    "# make data\n",
    "x = media_mensal.index.astype(str)\n",
    "y = media_mensal.values\n",
    "x1 = minimo.index.astype(str)\n",
    "y1 = minimo.values\n",
    "x2 = maximo.index.astype(str)\n",
    "y2 = maximo.values\n",
    "\n",
    "# plot\n",
    "fig, ax = plt.subplots(figsize=(5,5))\n",
    "# Traçando novos gráficos para comporação\n",
    "ax.plot(x, y, linewidth=2.0)\n",
    "ax.plot(x1, y1, linewidth=2.0, color=\"r\")\n",
    "ax.plot(x2, y2, linewidth=2.0, color='g')\n",
    "\n",
    "\n",
    "plt.show()"
   ]
  },
  {
   "cell_type": "markdown",
   "id": "2de9f7f2",
   "metadata": {},
   "source": [
    "***Com isso conseguimos perceber um outliner puxando a média***\n",
    "* O que será que aconteceu, teve algum problema? Tentar entender o mínimo e o máximo\n",
    "* O que será que puxou a média para cima que gerou esse resultado"
   ]
  },
  {
   "cell_type": "code",
   "execution_count": 52,
   "id": "4033e44e",
   "metadata": {},
   "outputs": [
    {
     "data": {
      "text/html": [
       "<div>\n",
       "<style scoped>\n",
       "    .dataframe tbody tr th:only-of-type {\n",
       "        vertical-align: middle;\n",
       "    }\n",
       "\n",
       "    .dataframe tbody tr th {\n",
       "        vertical-align: top;\n",
       "    }\n",
       "\n",
       "    .dataframe thead th {\n",
       "        text-align: right;\n",
       "    }\n",
       "</style>\n",
       "<table border=\"1\" class=\"dataframe\">\n",
       "  <thead>\n",
       "    <tr style=\"text-align: right;\">\n",
       "      <th></th>\n",
       "      <th>Tipo</th>\n",
       "      <th>Data</th>\n",
       "      <th>Curtidas</th>\n",
       "      <th>Comentários</th>\n",
       "      <th>Tags</th>\n",
       "      <th>Pessoas</th>\n",
       "      <th>Campanhas</th>\n",
       "      <th>Carrossel</th>\n",
       "      <th>Interacoes</th>\n",
       "      <th>mês</th>\n",
       "      <th>mes</th>\n",
       "    </tr>\n",
       "  </thead>\n",
       "  <tbody>\n",
       "    <tr>\n",
       "      <th>48</th>\n",
       "      <td>Foto</td>\n",
       "      <td>2022-03-20</td>\n",
       "      <td>29084</td>\n",
       "      <td>479</td>\n",
       "      <td>Datas comemorativas/Promoções</td>\n",
       "      <td>S</td>\n",
       "      <td>S</td>\n",
       "      <td>N</td>\n",
       "      <td>29563</td>\n",
       "      <td>202203</td>\n",
       "      <td>202203</td>\n",
       "    </tr>\n",
       "    <tr>\n",
       "      <th>43</th>\n",
       "      <td>Foto</td>\n",
       "      <td>2022-03-04</td>\n",
       "      <td>24399</td>\n",
       "      <td>266</td>\n",
       "      <td>NaN</td>\n",
       "      <td>S</td>\n",
       "      <td>S</td>\n",
       "      <td>N</td>\n",
       "      <td>24665</td>\n",
       "      <td>202203</td>\n",
       "      <td>202203</td>\n",
       "    </tr>\n",
       "    <tr>\n",
       "      <th>45</th>\n",
       "      <td>Reels</td>\n",
       "      <td>2022-03-08</td>\n",
       "      <td>19621</td>\n",
       "      <td>275</td>\n",
       "      <td>Trends</td>\n",
       "      <td>S</td>\n",
       "      <td>S</td>\n",
       "      <td>N</td>\n",
       "      <td>19896</td>\n",
       "      <td>202203</td>\n",
       "      <td>202203</td>\n",
       "    </tr>\n",
       "    <tr>\n",
       "      <th>50</th>\n",
       "      <td>Foto</td>\n",
       "      <td>2022-03-26</td>\n",
       "      <td>16551</td>\n",
       "      <td>186</td>\n",
       "      <td>NaN</td>\n",
       "      <td>S</td>\n",
       "      <td>N</td>\n",
       "      <td>N</td>\n",
       "      <td>16737</td>\n",
       "      <td>202203</td>\n",
       "      <td>202203</td>\n",
       "    </tr>\n",
       "    <tr>\n",
       "      <th>49</th>\n",
       "      <td>Foto</td>\n",
       "      <td>2022-03-22</td>\n",
       "      <td>9087</td>\n",
       "      <td>106</td>\n",
       "      <td>NaN</td>\n",
       "      <td>S</td>\n",
       "      <td>S</td>\n",
       "      <td>N</td>\n",
       "      <td>9193</td>\n",
       "      <td>202203</td>\n",
       "      <td>202203</td>\n",
       "    </tr>\n",
       "    <tr>\n",
       "      <th>44</th>\n",
       "      <td>IGTV</td>\n",
       "      <td>2022-03-07</td>\n",
       "      <td>5918</td>\n",
       "      <td>116</td>\n",
       "      <td>Dicas de como usar/Novos Produtos</td>\n",
       "      <td>S</td>\n",
       "      <td>N</td>\n",
       "      <td>N</td>\n",
       "      <td>6034</td>\n",
       "      <td>202203</td>\n",
       "      <td>202203</td>\n",
       "    </tr>\n",
       "    <tr>\n",
       "      <th>47</th>\n",
       "      <td>IGTV</td>\n",
       "      <td>2022-03-12</td>\n",
       "      <td>5489</td>\n",
       "      <td>77</td>\n",
       "      <td>Dicas de como usar/Novos Produtos</td>\n",
       "      <td>S</td>\n",
       "      <td>N</td>\n",
       "      <td>N</td>\n",
       "      <td>5566</td>\n",
       "      <td>202203</td>\n",
       "      <td>202203</td>\n",
       "    </tr>\n",
       "    <tr>\n",
       "      <th>51</th>\n",
       "      <td>IGTV</td>\n",
       "      <td>2022-03-27</td>\n",
       "      <td>4934</td>\n",
       "      <td>65</td>\n",
       "      <td>Dicas de como usar/Produtos</td>\n",
       "      <td>S</td>\n",
       "      <td>N</td>\n",
       "      <td>N</td>\n",
       "      <td>4999</td>\n",
       "      <td>202203</td>\n",
       "      <td>202203</td>\n",
       "    </tr>\n",
       "    <tr>\n",
       "      <th>46</th>\n",
       "      <td>Foto</td>\n",
       "      <td>2022-03-09</td>\n",
       "      <td>4613</td>\n",
       "      <td>50</td>\n",
       "      <td>Influenciadores</td>\n",
       "      <td>S</td>\n",
       "      <td>N</td>\n",
       "      <td>N</td>\n",
       "      <td>4663</td>\n",
       "      <td>202203</td>\n",
       "      <td>202203</td>\n",
       "    </tr>\n",
       "    <tr>\n",
       "      <th>39</th>\n",
       "      <td>Foto</td>\n",
       "      <td>2022-02-17</td>\n",
       "      <td>37351</td>\n",
       "      <td>502</td>\n",
       "      <td>Promoções</td>\n",
       "      <td>S</td>\n",
       "      <td>S</td>\n",
       "      <td>N</td>\n",
       "      <td>37853</td>\n",
       "      <td>202202</td>\n",
       "      <td>202202</td>\n",
       "    </tr>\n",
       "    <tr>\n",
       "      <th>33</th>\n",
       "      <td>Foto</td>\n",
       "      <td>2022-02-06</td>\n",
       "      <td>24655</td>\n",
       "      <td>186</td>\n",
       "      <td>Influenciadores</td>\n",
       "      <td>S</td>\n",
       "      <td>S</td>\n",
       "      <td>N</td>\n",
       "      <td>24841</td>\n",
       "      <td>202202</td>\n",
       "      <td>202202</td>\n",
       "    </tr>\n",
       "    <tr>\n",
       "      <th>40</th>\n",
       "      <td>Foto</td>\n",
       "      <td>2022-02-21</td>\n",
       "      <td>21621</td>\n",
       "      <td>213</td>\n",
       "      <td>Influenciadores</td>\n",
       "      <td>S</td>\n",
       "      <td>S</td>\n",
       "      <td>S</td>\n",
       "      <td>21834</td>\n",
       "      <td>202202</td>\n",
       "      <td>202202</td>\n",
       "    </tr>\n",
       "    <tr>\n",
       "      <th>34</th>\n",
       "      <td>Foto</td>\n",
       "      <td>2022-02-09</td>\n",
       "      <td>20660</td>\n",
       "      <td>292</td>\n",
       "      <td>Influenciadores</td>\n",
       "      <td>S</td>\n",
       "      <td>S</td>\n",
       "      <td>N</td>\n",
       "      <td>20952</td>\n",
       "      <td>202202</td>\n",
       "      <td>202202</td>\n",
       "    </tr>\n",
       "    <tr>\n",
       "      <th>38</th>\n",
       "      <td>Foto</td>\n",
       "      <td>2022-02-15</td>\n",
       "      <td>17687</td>\n",
       "      <td>213</td>\n",
       "      <td>NaN</td>\n",
       "      <td>S</td>\n",
       "      <td>N</td>\n",
       "      <td>N</td>\n",
       "      <td>17900</td>\n",
       "      <td>202202</td>\n",
       "      <td>202202</td>\n",
       "    </tr>\n",
       "    <tr>\n",
       "      <th>37</th>\n",
       "      <td>Vídeo</td>\n",
       "      <td>2022-02-13</td>\n",
       "      <td>15219</td>\n",
       "      <td>357</td>\n",
       "      <td>Datas comemorativas</td>\n",
       "      <td>S</td>\n",
       "      <td>S</td>\n",
       "      <td>N</td>\n",
       "      <td>15576</td>\n",
       "      <td>202202</td>\n",
       "      <td>202202</td>\n",
       "    </tr>\n",
       "    <tr>\n",
       "      <th>41</th>\n",
       "      <td>Foto</td>\n",
       "      <td>2022-02-22</td>\n",
       "      <td>12530</td>\n",
       "      <td>90</td>\n",
       "      <td>NaN</td>\n",
       "      <td>S</td>\n",
       "      <td>N</td>\n",
       "      <td>N</td>\n",
       "      <td>12620</td>\n",
       "      <td>202202</td>\n",
       "      <td>202202</td>\n",
       "    </tr>\n",
       "    <tr>\n",
       "      <th>36</th>\n",
       "      <td>Foto</td>\n",
       "      <td>2022-02-12</td>\n",
       "      <td>11802</td>\n",
       "      <td>102</td>\n",
       "      <td>Produtos</td>\n",
       "      <td>S</td>\n",
       "      <td>S</td>\n",
       "      <td>N</td>\n",
       "      <td>11904</td>\n",
       "      <td>202202</td>\n",
       "      <td>202202</td>\n",
       "    </tr>\n",
       "    <tr>\n",
       "      <th>32</th>\n",
       "      <td>IGTV</td>\n",
       "      <td>2022-02-04</td>\n",
       "      <td>9270</td>\n",
       "      <td>222</td>\n",
       "      <td>Dicas de como usar/Produtos</td>\n",
       "      <td>S</td>\n",
       "      <td>N</td>\n",
       "      <td>N</td>\n",
       "      <td>9492</td>\n",
       "      <td>202202</td>\n",
       "      <td>202202</td>\n",
       "    </tr>\n",
       "    <tr>\n",
       "      <th>35</th>\n",
       "      <td>IGTV</td>\n",
       "      <td>2022-02-10</td>\n",
       "      <td>8556</td>\n",
       "      <td>188</td>\n",
       "      <td>Dicas de como usar/Produtos</td>\n",
       "      <td>S</td>\n",
       "      <td>N</td>\n",
       "      <td>N</td>\n",
       "      <td>8744</td>\n",
       "      <td>202202</td>\n",
       "      <td>202202</td>\n",
       "    </tr>\n",
       "    <tr>\n",
       "      <th>42</th>\n",
       "      <td>Foto</td>\n",
       "      <td>2022-02-26</td>\n",
       "      <td>8544</td>\n",
       "      <td>72</td>\n",
       "      <td>Influenciadores</td>\n",
       "      <td>S</td>\n",
       "      <td>S</td>\n",
       "      <td>N</td>\n",
       "      <td>8616</td>\n",
       "      <td>202202</td>\n",
       "      <td>202202</td>\n",
       "    </tr>\n",
       "  </tbody>\n",
       "</table>\n",
       "</div>"
      ],
      "text/plain": [
       "     Tipo       Data  Curtidas  Comentários  \\\n",
       "48   Foto 2022-03-20     29084          479   \n",
       "43   Foto 2022-03-04     24399          266   \n",
       "45  Reels 2022-03-08     19621          275   \n",
       "50   Foto 2022-03-26     16551          186   \n",
       "49   Foto 2022-03-22      9087          106   \n",
       "44   IGTV 2022-03-07      5918          116   \n",
       "47   IGTV 2022-03-12      5489           77   \n",
       "51   IGTV 2022-03-27      4934           65   \n",
       "46   Foto 2022-03-09      4613           50   \n",
       "39   Foto 2022-02-17     37351          502   \n",
       "33   Foto 2022-02-06     24655          186   \n",
       "40   Foto 2022-02-21     21621          213   \n",
       "34   Foto 2022-02-09     20660          292   \n",
       "38   Foto 2022-02-15     17687          213   \n",
       "37  Vídeo 2022-02-13     15219          357   \n",
       "41   Foto 2022-02-22     12530           90   \n",
       "36   Foto 2022-02-12     11802          102   \n",
       "32   IGTV 2022-02-04      9270          222   \n",
       "35   IGTV 2022-02-10      8556          188   \n",
       "42   Foto 2022-02-26      8544           72   \n",
       "\n",
       "                                 Tags Pessoas Campanhas Carrossel  \\\n",
       "48      Datas comemorativas/Promoções       S         S         N   \n",
       "43                                NaN       S         S         N   \n",
       "45                             Trends       S         S         N   \n",
       "50                                NaN       S         N         N   \n",
       "49                                NaN       S         S         N   \n",
       "44  Dicas de como usar/Novos Produtos       S         N         N   \n",
       "47  Dicas de como usar/Novos Produtos       S         N         N   \n",
       "51        Dicas de como usar/Produtos       S         N         N   \n",
       "46                    Influenciadores       S         N         N   \n",
       "39                          Promoções       S         S         N   \n",
       "33                    Influenciadores       S         S         N   \n",
       "40                    Influenciadores       S         S         S   \n",
       "34                    Influenciadores       S         S         N   \n",
       "38                                NaN       S         N         N   \n",
       "37                Datas comemorativas       S         S         N   \n",
       "41                                NaN       S         N         N   \n",
       "36                           Produtos       S         S         N   \n",
       "32        Dicas de como usar/Produtos       S         N         N   \n",
       "35        Dicas de como usar/Produtos       S         N         N   \n",
       "42                    Influenciadores       S         S         N   \n",
       "\n",
       "    Interacoes      mês     mes  \n",
       "48        29563  202203  202203  \n",
       "43        24665  202203  202203  \n",
       "45        19896  202203  202203  \n",
       "50        16737  202203  202203  \n",
       "49         9193  202203  202203  \n",
       "44         6034  202203  202203  \n",
       "47         5566  202203  202203  \n",
       "51         4999  202203  202203  \n",
       "46         4663  202203  202203  \n",
       "39        37853  202202  202202  \n",
       "33        24841  202202  202202  \n",
       "40        21834  202202  202202  \n",
       "34        20952  202202  202202  \n",
       "38        17900  202202  202202  \n",
       "37        15576  202202  202202  \n",
       "41        12620  202202  202202  \n",
       "36        11904  202202  202202  \n",
       "32         9492  202202  202202  \n",
       "35         8744  202202  202202  \n",
       "42         8616  202202  202202  "
      ]
     },
     "execution_count": 52,
     "metadata": {},
     "output_type": "execute_result"
    }
   ],
   "source": [
    "base[base.mes>=202202].sort_values([\"mes\",\"Curtidas\"], ascending=False)"
   ]
  },
  {
   "cell_type": "markdown",
   "id": "1d662421",
   "metadata": {},
   "source": [
    "***Dessa forma conseguimos ver o que puxou mais as curtidas e foram promoções***\n",
    "* Será que a promoção ta sendo boa, ou trazendo algo que não é orgânico?\n",
    "* Será que beneficia aquele post e afeta os outros?\n",
    "* O gráfico te ajuda a apresentar e a entender melhor sua análise e aprofundar nela, de forma visual é um pouco mais fácil"
   ]
  },
  {
   "cell_type": "code",
   "execution_count": null,
   "id": "1ca5f61c",
   "metadata": {},
   "outputs": [],
   "source": []
  }
 ],
 "metadata": {
  "kernelspec": {
   "display_name": "Python 3 (ipykernel)",
   "language": "python",
   "name": "python3"
  },
  "language_info": {
   "codemirror_mode": {
    "name": "ipython",
    "version": 3
   },
   "file_extension": ".py",
   "mimetype": "text/x-python",
   "name": "python",
   "nbconvert_exporter": "python",
   "pygments_lexer": "ipython3",
   "version": "3.11.5"
  }
 },
 "nbformat": 4,
 "nbformat_minor": 5
}
